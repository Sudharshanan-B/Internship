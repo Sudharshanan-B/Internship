{
 "cells": [
  {
   "cell_type": "markdown",
   "id": "6fd78e2d",
   "metadata": {},
   "source": [
    "Importing Libraries"
   ]
  },
  {
   "cell_type": "code",
   "execution_count": 208,
   "id": "f66620c4",
   "metadata": {},
   "outputs": [],
   "source": [
    "import pandas as pd\n",
    "import numpy as np\n",
    "import plotly.express as px\n",
    "import matplotlib.pyplot as plt\n",
    "import seaborn as sns\n",
    "from sklearn.model_selection import train_test_split\n",
    "import tensorflow as tf\n",
    "from tensorflow import keras\n",
    "from tensorflow.keras import layers"
   ]
  },
  {
   "cell_type": "markdown",
   "id": "88f47836",
   "metadata": {},
   "source": [
    "loading and reading from dataset"
   ]
  },
  {
   "cell_type": "code",
   "execution_count": 209,
   "id": "f82eace5",
   "metadata": {},
   "outputs": [
    {
     "data": {
      "text/html": [
       "<div>\n",
       "<style scoped>\n",
       "    .dataframe tbody tr th:only-of-type {\n",
       "        vertical-align: middle;\n",
       "    }\n",
       "\n",
       "    .dataframe tbody tr th {\n",
       "        vertical-align: top;\n",
       "    }\n",
       "\n",
       "    .dataframe thead th {\n",
       "        text-align: right;\n",
       "    }\n",
       "</style>\n",
       "<table border=\"1\" class=\"dataframe\">\n",
       "  <thead>\n",
       "    <tr style=\"text-align: right;\">\n",
       "      <th></th>\n",
       "      <th>Count #</th>\n",
       "      <th>HRn</th>\n",
       "      <th>Rn</th>\n",
       "      <th>QRSAmpn</th>\n",
       "      <th>HRn-1</th>\n",
       "      <th>Rn-1</th>\n",
       "      <th>QRSAmpn-1</th>\n",
       "      <th>HRn-2</th>\n",
       "      <th>Rn-2</th>\n",
       "      <th>QRSAmpn-2</th>\n",
       "      <th>...</th>\n",
       "      <th>Bin4</th>\n",
       "      <th>Bin5</th>\n",
       "      <th>Bin6</th>\n",
       "      <th>Bin7</th>\n",
       "      <th>Bin8</th>\n",
       "      <th>Bin9</th>\n",
       "      <th>Bin10</th>\n",
       "      <th>Class</th>\n",
       "      <th>Status</th>\n",
       "      <th>Unnamed: 30</th>\n",
       "    </tr>\n",
       "  </thead>\n",
       "  <tbody>\n",
       "    <tr>\n",
       "      <th>0</th>\n",
       "      <td>1</td>\n",
       "      <td>98</td>\n",
       "      <td>12</td>\n",
       "      <td>1.02</td>\n",
       "      <td>99</td>\n",
       "      <td>13</td>\n",
       "      <td>1.04</td>\n",
       "      <td>96</td>\n",
       "      <td>10</td>\n",
       "      <td>0.99</td>\n",
       "      <td>...</td>\n",
       "      <td>0.08</td>\n",
       "      <td>0.06</td>\n",
       "      <td>0.02</td>\n",
       "      <td>0.02</td>\n",
       "      <td>0.02</td>\n",
       "      <td>0.03</td>\n",
       "      <td>0.00</td>\n",
       "      <td>0</td>\n",
       "      <td>1</td>\n",
       "      <td>nsr</td>\n",
       "    </tr>\n",
       "    <tr>\n",
       "      <th>1</th>\n",
       "      <td>2</td>\n",
       "      <td>78</td>\n",
       "      <td>10</td>\n",
       "      <td>1.34</td>\n",
       "      <td>82</td>\n",
       "      <td>12</td>\n",
       "      <td>1.20</td>\n",
       "      <td>90</td>\n",
       "      <td>10</td>\n",
       "      <td>1.34</td>\n",
       "      <td>...</td>\n",
       "      <td>0.05</td>\n",
       "      <td>0.08</td>\n",
       "      <td>0.02</td>\n",
       "      <td>0.02</td>\n",
       "      <td>0.05</td>\n",
       "      <td>0.03</td>\n",
       "      <td>0.00</td>\n",
       "      <td>0</td>\n",
       "      <td>1</td>\n",
       "      <td>nsr</td>\n",
       "    </tr>\n",
       "    <tr>\n",
       "      <th>2</th>\n",
       "      <td>3</td>\n",
       "      <td>72</td>\n",
       "      <td>8</td>\n",
       "      <td>0.65</td>\n",
       "      <td>74</td>\n",
       "      <td>10</td>\n",
       "      <td>0.73</td>\n",
       "      <td>75</td>\n",
       "      <td>9</td>\n",
       "      <td>0.70</td>\n",
       "      <td>...</td>\n",
       "      <td>0.11</td>\n",
       "      <td>0.08</td>\n",
       "      <td>0.02</td>\n",
       "      <td>0.01</td>\n",
       "      <td>0.02</td>\n",
       "      <td>0.03</td>\n",
       "      <td>0.01</td>\n",
       "      <td>0</td>\n",
       "      <td>1</td>\n",
       "      <td>nsr</td>\n",
       "    </tr>\n",
       "    <tr>\n",
       "      <th>3</th>\n",
       "      <td>4</td>\n",
       "      <td>90</td>\n",
       "      <td>14</td>\n",
       "      <td>0.88</td>\n",
       "      <td>99</td>\n",
       "      <td>12</td>\n",
       "      <td>1.04</td>\n",
       "      <td>96</td>\n",
       "      <td>11</td>\n",
       "      <td>0.98</td>\n",
       "      <td>...</td>\n",
       "      <td>0.10</td>\n",
       "      <td>0.02</td>\n",
       "      <td>0.01</td>\n",
       "      <td>0.01</td>\n",
       "      <td>0.01</td>\n",
       "      <td>0.00</td>\n",
       "      <td>0.00</td>\n",
       "      <td>0</td>\n",
       "      <td>1</td>\n",
       "      <td>nsr</td>\n",
       "    </tr>\n",
       "    <tr>\n",
       "      <th>4</th>\n",
       "      <td>5</td>\n",
       "      <td>138</td>\n",
       "      <td>20</td>\n",
       "      <td>1.02</td>\n",
       "      <td>158</td>\n",
       "      <td>34</td>\n",
       "      <td>0.76</td>\n",
       "      <td>172</td>\n",
       "      <td>29</td>\n",
       "      <td>0.66</td>\n",
       "      <td>...</td>\n",
       "      <td>0.08</td>\n",
       "      <td>0.06</td>\n",
       "      <td>0.06</td>\n",
       "      <td>0.06</td>\n",
       "      <td>0.04</td>\n",
       "      <td>0.02</td>\n",
       "      <td>0.00</td>\n",
       "      <td>4</td>\n",
       "      <td>1</td>\n",
       "      <td>vf</td>\n",
       "    </tr>\n",
       "  </tbody>\n",
       "</table>\n",
       "<p>5 rows × 31 columns</p>\n",
       "</div>"
      ],
      "text/plain": [
       "   Count #  HRn  Rn  QRSAmpn  HRn-1  Rn-1  QRSAmpn-1  HRn-2  Rn-2  QRSAmpn-2  \\\n",
       "0        1   98  12     1.02     99    13       1.04     96    10       0.99   \n",
       "1        2   78  10     1.34     82    12       1.20     90    10       1.34   \n",
       "2        3   72   8     0.65     74    10       0.73     75     9       0.70   \n",
       "3        4   90  14     0.88     99    12       1.04     96    11       0.98   \n",
       "4        5  138  20     1.02    158    34       0.76    172    29       0.66   \n",
       "\n",
       "   ...  Bin4  Bin5  Bin6  Bin7  Bin8  Bin9  Bin10  Class  Status  Unnamed: 30  \n",
       "0  ...  0.08  0.06  0.02  0.02  0.02  0.03   0.00      0       1          nsr  \n",
       "1  ...  0.05  0.08  0.02  0.02  0.05  0.03   0.00      0       1          nsr  \n",
       "2  ...  0.11  0.08  0.02  0.01  0.02  0.03   0.01      0       1          nsr  \n",
       "3  ...  0.10  0.02  0.01  0.01  0.01  0.00   0.00      0       1          nsr  \n",
       "4  ...  0.08  0.06  0.06  0.06  0.04  0.02   0.00      4       1           vf  \n",
       "\n",
       "[5 rows x 31 columns]"
      ]
     },
     "execution_count": 209,
     "metadata": {},
     "output_type": "execute_result"
    }
   ],
   "source": [
    "df = pd.read_excel(\"/media/data/Acad/Programming/Python/work/task1/data_set01.xlsx\", sheet_name='Sheet1')\n",
    "df.head()"
   ]
  },
  {
   "cell_type": "markdown",
   "id": "1610e094",
   "metadata": {},
   "source": [
    "Dropping Unnecessary Columns"
   ]
  },
  {
   "cell_type": "code",
   "execution_count": 210,
   "id": "90ba04a9",
   "metadata": {},
   "outputs": [
    {
     "name": "stdout",
     "output_type": "stream",
     "text": [
      "    Count #  HRn  Rn  QRSAmpn  HRn-1  Rn-1  QRSAmpn-1  HRn-2  Rn-2  QRSAmpn-2  \\\n",
      "0         1   98  12     1.02     99    13       1.04     96    10       0.99   \n",
      "1         2   78  10     1.34     82    12       1.20     90    10       1.34   \n",
      "2         3   72   8     0.65     74    10       0.73     75     9       0.70   \n",
      "3         4   90  14     0.88     99    12       1.04     96    11       0.98   \n",
      "4         5  138  20     1.02    158    34       0.76    172    29       0.66   \n",
      "5         6  123  32     1.65    100    32       1.09     86    29       1.07   \n",
      "6         7  172  45     0.18    198    32       0.20    186    26       0.19   \n",
      "7         8  182  46     0.21    197    42       0.18    202    48       0.16   \n",
      "8         9  182  43     0.76     90    10       1.04    176    43       0.99   \n",
      "9        10   60   6     1.02     64     8       1.04     72    10       0.99   \n",
      "10       11  170   8     1.02    170     8       1.04    170    10       0.99   \n",
      "11       12   80   8     1.02     82     5       1.04     82    10       0.96   \n",
      "12       13  197  46     1.02    192    40       0.89    180    44       0.99   \n",
      "13       14    0   0     0.07      0     0       0.08      0     0       0.06   \n",
      "14       15   62  30     0.19     36     4       0.14      0     0       0.11   \n",
      "15       16    0   0     0.10      0     0       0.11      0     0       0.08   \n",
      "16       17  212  12     0.43    208    46       0.52    187    32       0.40   \n",
      "17       18  182  40     0.21    190    42       0.13    189    20       0.16   \n",
      "\n",
      "    ...  Bin3  Bin4  Bin5  Bin6  Bin7  Bin8  Bin9  Bin10  Class  Unnamed: 30  \n",
      "0   ...  0.12  0.08  0.06  0.02  0.02  0.02  0.03   0.00      0          nsr  \n",
      "1   ...  0.11  0.05  0.08  0.02  0.02  0.05  0.03   0.00      0          nsr  \n",
      "2   ...  0.12  0.11  0.08  0.02  0.01  0.02  0.03   0.01      0          nsr  \n",
      "3   ...  0.11  0.10  0.02  0.01  0.01  0.01  0.00   0.00      0          nsr  \n",
      "4   ...  0.15  0.08  0.06  0.06  0.06  0.04  0.02   0.00      4           vf  \n",
      "5   ...  0.12  0.08  0.06  0.02  0.02  0.02  0.03   0.00      3          noi  \n",
      "6   ...  0.12  0.05  0.00  0.00  0.00  0.00  0.00   0.00      2          fvf  \n",
      "7   ...  0.12  0.10  0.06  0.00  0.00  0.00  0.00   0.00      2          fvf  \n",
      "8   ...  0.12  0.08  0.06  0.02  0.02  0.02  0.03   0.00      3          noi  \n",
      "9   ...  0.12  0.08  0.06  0.02  0.02  0.02  0.03   0.00      0          nsr  \n",
      "10  ...  0.12  0.08  0.06  0.02  0.02  0.02  0.03   0.00      0          nsr  \n",
      "11  ...  0.14  0.08  0.06  0.02  0.02  0.02  0.03   0.00      0          nsr  \n",
      "12  ...  0.20  0.12  0.11  0.07  0.03  0.00  0.00   0.00      4           vf  \n",
      "13  ...  0.00  0.00  0.00  0.00  0.00  0.00  0.00   0.00      2         asys  \n",
      "14  ...  0.06  0.00  0.00  0.00  0.00  0.00  0.00   0.00      2         asys  \n",
      "15  ...  0.00  0.00  0.00  0.00  0.00  0.00  0.00   0.00      2         asys  \n",
      "16  ...  0.14  0.12  0.06  0.08  0.07  0.07  0.03   0.00      4           vf  \n",
      "17  ...  0.12  0.08  0.00  0.00  0.00  0.00  0.00   0.00      2          fvf  \n",
      "\n",
      "[18 rows x 30 columns]\n"
     ]
    }
   ],
   "source": [
    "df.drop('Status', axis=1, inplace = True)\n",
    "print(df)"
   ]
  },
  {
   "cell_type": "code",
   "execution_count": 211,
   "id": "1905c20b",
   "metadata": {},
   "outputs": [],
   "source": [
    "df.drop('Unnamed: 30', axis = 1, inplace = True)\n",
    "df.drop('Count #', axis = 1, inplace = True)"
   ]
  },
  {
   "cell_type": "markdown",
   "id": "ef54c752",
   "metadata": {},
   "source": [
    "Splitting the dataset into input and output variables"
   ]
  },
  {
   "cell_type": "code",
   "execution_count": 212,
   "id": "f90b3658",
   "metadata": {},
   "outputs": [],
   "source": [
    "X = df.drop('Class', axis = 1)  # Features\n",
    "y = df['Class']  # Target Label"
   ]
  },
  {
   "cell_type": "code",
   "execution_count": 213,
   "id": "eb31149d",
   "metadata": {},
   "outputs": [
    {
     "data": {
      "text/html": [
       "<div>\n",
       "<style scoped>\n",
       "    .dataframe tbody tr th:only-of-type {\n",
       "        vertical-align: middle;\n",
       "    }\n",
       "\n",
       "    .dataframe tbody tr th {\n",
       "        vertical-align: top;\n",
       "    }\n",
       "\n",
       "    .dataframe thead th {\n",
       "        text-align: right;\n",
       "    }\n",
       "</style>\n",
       "<table border=\"1\" class=\"dataframe\">\n",
       "  <thead>\n",
       "    <tr style=\"text-align: right;\">\n",
       "      <th></th>\n",
       "      <th>HRn</th>\n",
       "      <th>Rn</th>\n",
       "      <th>QRSAmpn</th>\n",
       "      <th>HRn-1</th>\n",
       "      <th>Rn-1</th>\n",
       "      <th>QRSAmpn-1</th>\n",
       "      <th>HRn-2</th>\n",
       "      <th>Rn-2</th>\n",
       "      <th>QRSAmpn-2</th>\n",
       "      <th>SQI</th>\n",
       "      <th>...</th>\n",
       "      <th>Bin1</th>\n",
       "      <th>Bin2</th>\n",
       "      <th>Bin3</th>\n",
       "      <th>Bin4</th>\n",
       "      <th>Bin5</th>\n",
       "      <th>Bin6</th>\n",
       "      <th>Bin7</th>\n",
       "      <th>Bin8</th>\n",
       "      <th>Bin9</th>\n",
       "      <th>Bin10</th>\n",
       "    </tr>\n",
       "  </thead>\n",
       "  <tbody>\n",
       "    <tr>\n",
       "      <th>0</th>\n",
       "      <td>98</td>\n",
       "      <td>12</td>\n",
       "      <td>1.02</td>\n",
       "      <td>99</td>\n",
       "      <td>13</td>\n",
       "      <td>1.04</td>\n",
       "      <td>96</td>\n",
       "      <td>10</td>\n",
       "      <td>0.99</td>\n",
       "      <td>3</td>\n",
       "      <td>...</td>\n",
       "      <td>0.45</td>\n",
       "      <td>0.20</td>\n",
       "      <td>0.12</td>\n",
       "      <td>0.08</td>\n",
       "      <td>0.06</td>\n",
       "      <td>0.02</td>\n",
       "      <td>0.02</td>\n",
       "      <td>0.02</td>\n",
       "      <td>0.03</td>\n",
       "      <td>0.00</td>\n",
       "    </tr>\n",
       "    <tr>\n",
       "      <th>1</th>\n",
       "      <td>78</td>\n",
       "      <td>10</td>\n",
       "      <td>1.34</td>\n",
       "      <td>82</td>\n",
       "      <td>12</td>\n",
       "      <td>1.20</td>\n",
       "      <td>90</td>\n",
       "      <td>10</td>\n",
       "      <td>1.34</td>\n",
       "      <td>3</td>\n",
       "      <td>...</td>\n",
       "      <td>0.39</td>\n",
       "      <td>0.25</td>\n",
       "      <td>0.11</td>\n",
       "      <td>0.05</td>\n",
       "      <td>0.08</td>\n",
       "      <td>0.02</td>\n",
       "      <td>0.02</td>\n",
       "      <td>0.05</td>\n",
       "      <td>0.03</td>\n",
       "      <td>0.00</td>\n",
       "    </tr>\n",
       "    <tr>\n",
       "      <th>2</th>\n",
       "      <td>72</td>\n",
       "      <td>8</td>\n",
       "      <td>0.65</td>\n",
       "      <td>74</td>\n",
       "      <td>10</td>\n",
       "      <td>0.73</td>\n",
       "      <td>75</td>\n",
       "      <td>9</td>\n",
       "      <td>0.70</td>\n",
       "      <td>3</td>\n",
       "      <td>...</td>\n",
       "      <td>0.40</td>\n",
       "      <td>0.21</td>\n",
       "      <td>0.12</td>\n",
       "      <td>0.11</td>\n",
       "      <td>0.08</td>\n",
       "      <td>0.02</td>\n",
       "      <td>0.01</td>\n",
       "      <td>0.02</td>\n",
       "      <td>0.03</td>\n",
       "      <td>0.01</td>\n",
       "    </tr>\n",
       "    <tr>\n",
       "      <th>3</th>\n",
       "      <td>90</td>\n",
       "      <td>14</td>\n",
       "      <td>0.88</td>\n",
       "      <td>99</td>\n",
       "      <td>12</td>\n",
       "      <td>1.04</td>\n",
       "      <td>96</td>\n",
       "      <td>11</td>\n",
       "      <td>0.98</td>\n",
       "      <td>2</td>\n",
       "      <td>...</td>\n",
       "      <td>0.38</td>\n",
       "      <td>0.25</td>\n",
       "      <td>0.11</td>\n",
       "      <td>0.10</td>\n",
       "      <td>0.02</td>\n",
       "      <td>0.01</td>\n",
       "      <td>0.01</td>\n",
       "      <td>0.01</td>\n",
       "      <td>0.00</td>\n",
       "      <td>0.00</td>\n",
       "    </tr>\n",
       "    <tr>\n",
       "      <th>4</th>\n",
       "      <td>138</td>\n",
       "      <td>20</td>\n",
       "      <td>1.02</td>\n",
       "      <td>158</td>\n",
       "      <td>34</td>\n",
       "      <td>0.76</td>\n",
       "      <td>172</td>\n",
       "      <td>29</td>\n",
       "      <td>0.66</td>\n",
       "      <td>3</td>\n",
       "      <td>...</td>\n",
       "      <td>0.36</td>\n",
       "      <td>0.16</td>\n",
       "      <td>0.15</td>\n",
       "      <td>0.08</td>\n",
       "      <td>0.06</td>\n",
       "      <td>0.06</td>\n",
       "      <td>0.06</td>\n",
       "      <td>0.04</td>\n",
       "      <td>0.02</td>\n",
       "      <td>0.00</td>\n",
       "    </tr>\n",
       "    <tr>\n",
       "      <th>5</th>\n",
       "      <td>123</td>\n",
       "      <td>32</td>\n",
       "      <td>1.65</td>\n",
       "      <td>100</td>\n",
       "      <td>32</td>\n",
       "      <td>1.09</td>\n",
       "      <td>86</td>\n",
       "      <td>29</td>\n",
       "      <td>1.07</td>\n",
       "      <td>1</td>\n",
       "      <td>...</td>\n",
       "      <td>0.45</td>\n",
       "      <td>0.20</td>\n",
       "      <td>0.12</td>\n",
       "      <td>0.08</td>\n",
       "      <td>0.06</td>\n",
       "      <td>0.02</td>\n",
       "      <td>0.02</td>\n",
       "      <td>0.02</td>\n",
       "      <td>0.03</td>\n",
       "      <td>0.00</td>\n",
       "    </tr>\n",
       "    <tr>\n",
       "      <th>6</th>\n",
       "      <td>172</td>\n",
       "      <td>45</td>\n",
       "      <td>0.18</td>\n",
       "      <td>198</td>\n",
       "      <td>32</td>\n",
       "      <td>0.20</td>\n",
       "      <td>186</td>\n",
       "      <td>26</td>\n",
       "      <td>0.19</td>\n",
       "      <td>3</td>\n",
       "      <td>...</td>\n",
       "      <td>0.45</td>\n",
       "      <td>0.38</td>\n",
       "      <td>0.12</td>\n",
       "      <td>0.05</td>\n",
       "      <td>0.00</td>\n",
       "      <td>0.00</td>\n",
       "      <td>0.00</td>\n",
       "      <td>0.00</td>\n",
       "      <td>0.00</td>\n",
       "      <td>0.00</td>\n",
       "    </tr>\n",
       "    <tr>\n",
       "      <th>7</th>\n",
       "      <td>182</td>\n",
       "      <td>46</td>\n",
       "      <td>0.21</td>\n",
       "      <td>197</td>\n",
       "      <td>42</td>\n",
       "      <td>0.18</td>\n",
       "      <td>202</td>\n",
       "      <td>48</td>\n",
       "      <td>0.16</td>\n",
       "      <td>3</td>\n",
       "      <td>...</td>\n",
       "      <td>0.52</td>\n",
       "      <td>0.20</td>\n",
       "      <td>0.12</td>\n",
       "      <td>0.10</td>\n",
       "      <td>0.06</td>\n",
       "      <td>0.00</td>\n",
       "      <td>0.00</td>\n",
       "      <td>0.00</td>\n",
       "      <td>0.00</td>\n",
       "      <td>0.00</td>\n",
       "    </tr>\n",
       "    <tr>\n",
       "      <th>8</th>\n",
       "      <td>182</td>\n",
       "      <td>43</td>\n",
       "      <td>0.76</td>\n",
       "      <td>90</td>\n",
       "      <td>10</td>\n",
       "      <td>1.04</td>\n",
       "      <td>176</td>\n",
       "      <td>43</td>\n",
       "      <td>0.99</td>\n",
       "      <td>2</td>\n",
       "      <td>...</td>\n",
       "      <td>0.45</td>\n",
       "      <td>0.20</td>\n",
       "      <td>0.12</td>\n",
       "      <td>0.08</td>\n",
       "      <td>0.06</td>\n",
       "      <td>0.02</td>\n",
       "      <td>0.02</td>\n",
       "      <td>0.02</td>\n",
       "      <td>0.03</td>\n",
       "      <td>0.00</td>\n",
       "    </tr>\n",
       "    <tr>\n",
       "      <th>9</th>\n",
       "      <td>60</td>\n",
       "      <td>6</td>\n",
       "      <td>1.02</td>\n",
       "      <td>64</td>\n",
       "      <td>8</td>\n",
       "      <td>1.04</td>\n",
       "      <td>72</td>\n",
       "      <td>10</td>\n",
       "      <td>0.99</td>\n",
       "      <td>3</td>\n",
       "      <td>...</td>\n",
       "      <td>0.50</td>\n",
       "      <td>0.20</td>\n",
       "      <td>0.12</td>\n",
       "      <td>0.08</td>\n",
       "      <td>0.06</td>\n",
       "      <td>0.02</td>\n",
       "      <td>0.02</td>\n",
       "      <td>0.02</td>\n",
       "      <td>0.03</td>\n",
       "      <td>0.00</td>\n",
       "    </tr>\n",
       "    <tr>\n",
       "      <th>10</th>\n",
       "      <td>170</td>\n",
       "      <td>8</td>\n",
       "      <td>1.02</td>\n",
       "      <td>170</td>\n",
       "      <td>8</td>\n",
       "      <td>1.04</td>\n",
       "      <td>170</td>\n",
       "      <td>10</td>\n",
       "      <td>0.99</td>\n",
       "      <td>3</td>\n",
       "      <td>...</td>\n",
       "      <td>0.45</td>\n",
       "      <td>0.20</td>\n",
       "      <td>0.12</td>\n",
       "      <td>0.08</td>\n",
       "      <td>0.06</td>\n",
       "      <td>0.02</td>\n",
       "      <td>0.02</td>\n",
       "      <td>0.02</td>\n",
       "      <td>0.03</td>\n",
       "      <td>0.00</td>\n",
       "    </tr>\n",
       "    <tr>\n",
       "      <th>11</th>\n",
       "      <td>80</td>\n",
       "      <td>8</td>\n",
       "      <td>1.02</td>\n",
       "      <td>82</td>\n",
       "      <td>5</td>\n",
       "      <td>1.04</td>\n",
       "      <td>82</td>\n",
       "      <td>10</td>\n",
       "      <td>0.96</td>\n",
       "      <td>2</td>\n",
       "      <td>...</td>\n",
       "      <td>0.44</td>\n",
       "      <td>0.19</td>\n",
       "      <td>0.14</td>\n",
       "      <td>0.08</td>\n",
       "      <td>0.06</td>\n",
       "      <td>0.02</td>\n",
       "      <td>0.02</td>\n",
       "      <td>0.02</td>\n",
       "      <td>0.03</td>\n",
       "      <td>0.00</td>\n",
       "    </tr>\n",
       "    <tr>\n",
       "      <th>12</th>\n",
       "      <td>197</td>\n",
       "      <td>46</td>\n",
       "      <td>1.02</td>\n",
       "      <td>192</td>\n",
       "      <td>40</td>\n",
       "      <td>0.89</td>\n",
       "      <td>180</td>\n",
       "      <td>44</td>\n",
       "      <td>0.99</td>\n",
       "      <td>3</td>\n",
       "      <td>...</td>\n",
       "      <td>0.37</td>\n",
       "      <td>0.20</td>\n",
       "      <td>0.20</td>\n",
       "      <td>0.12</td>\n",
       "      <td>0.11</td>\n",
       "      <td>0.07</td>\n",
       "      <td>0.03</td>\n",
       "      <td>0.00</td>\n",
       "      <td>0.00</td>\n",
       "      <td>0.00</td>\n",
       "    </tr>\n",
       "    <tr>\n",
       "      <th>13</th>\n",
       "      <td>0</td>\n",
       "      <td>0</td>\n",
       "      <td>0.07</td>\n",
       "      <td>0</td>\n",
       "      <td>0</td>\n",
       "      <td>0.08</td>\n",
       "      <td>0</td>\n",
       "      <td>0</td>\n",
       "      <td>0.06</td>\n",
       "      <td>3</td>\n",
       "      <td>...</td>\n",
       "      <td>0.90</td>\n",
       "      <td>0.10</td>\n",
       "      <td>0.00</td>\n",
       "      <td>0.00</td>\n",
       "      <td>0.00</td>\n",
       "      <td>0.00</td>\n",
       "      <td>0.00</td>\n",
       "      <td>0.00</td>\n",
       "      <td>0.00</td>\n",
       "      <td>0.00</td>\n",
       "    </tr>\n",
       "    <tr>\n",
       "      <th>14</th>\n",
       "      <td>62</td>\n",
       "      <td>30</td>\n",
       "      <td>0.19</td>\n",
       "      <td>36</td>\n",
       "      <td>4</td>\n",
       "      <td>0.14</td>\n",
       "      <td>0</td>\n",
       "      <td>0</td>\n",
       "      <td>0.11</td>\n",
       "      <td>3</td>\n",
       "      <td>...</td>\n",
       "      <td>0.76</td>\n",
       "      <td>0.18</td>\n",
       "      <td>0.06</td>\n",
       "      <td>0.00</td>\n",
       "      <td>0.00</td>\n",
       "      <td>0.00</td>\n",
       "      <td>0.00</td>\n",
       "      <td>0.00</td>\n",
       "      <td>0.00</td>\n",
       "      <td>0.00</td>\n",
       "    </tr>\n",
       "    <tr>\n",
       "      <th>15</th>\n",
       "      <td>0</td>\n",
       "      <td>0</td>\n",
       "      <td>0.10</td>\n",
       "      <td>0</td>\n",
       "      <td>0</td>\n",
       "      <td>0.11</td>\n",
       "      <td>0</td>\n",
       "      <td>0</td>\n",
       "      <td>0.08</td>\n",
       "      <td>3</td>\n",
       "      <td>...</td>\n",
       "      <td>0.80</td>\n",
       "      <td>0.20</td>\n",
       "      <td>0.00</td>\n",
       "      <td>0.00</td>\n",
       "      <td>0.00</td>\n",
       "      <td>0.00</td>\n",
       "      <td>0.00</td>\n",
       "      <td>0.00</td>\n",
       "      <td>0.00</td>\n",
       "      <td>0.00</td>\n",
       "    </tr>\n",
       "    <tr>\n",
       "      <th>16</th>\n",
       "      <td>212</td>\n",
       "      <td>12</td>\n",
       "      <td>0.43</td>\n",
       "      <td>208</td>\n",
       "      <td>46</td>\n",
       "      <td>0.52</td>\n",
       "      <td>187</td>\n",
       "      <td>32</td>\n",
       "      <td>0.40</td>\n",
       "      <td>3</td>\n",
       "      <td>...</td>\n",
       "      <td>0.24</td>\n",
       "      <td>0.20</td>\n",
       "      <td>0.14</td>\n",
       "      <td>0.12</td>\n",
       "      <td>0.06</td>\n",
       "      <td>0.08</td>\n",
       "      <td>0.07</td>\n",
       "      <td>0.07</td>\n",
       "      <td>0.03</td>\n",
       "      <td>0.00</td>\n",
       "    </tr>\n",
       "    <tr>\n",
       "      <th>17</th>\n",
       "      <td>182</td>\n",
       "      <td>40</td>\n",
       "      <td>0.21</td>\n",
       "      <td>190</td>\n",
       "      <td>42</td>\n",
       "      <td>0.13</td>\n",
       "      <td>189</td>\n",
       "      <td>20</td>\n",
       "      <td>0.16</td>\n",
       "      <td>3</td>\n",
       "      <td>...</td>\n",
       "      <td>0.60</td>\n",
       "      <td>0.20</td>\n",
       "      <td>0.12</td>\n",
       "      <td>0.08</td>\n",
       "      <td>0.00</td>\n",
       "      <td>0.00</td>\n",
       "      <td>0.00</td>\n",
       "      <td>0.00</td>\n",
       "      <td>0.00</td>\n",
       "      <td>0.00</td>\n",
       "    </tr>\n",
       "  </tbody>\n",
       "</table>\n",
       "<p>18 rows × 27 columns</p>\n",
       "</div>"
      ],
      "text/plain": [
       "    HRn  Rn  QRSAmpn  HRn-1  Rn-1  QRSAmpn-1  HRn-2  Rn-2  QRSAmpn-2  SQI  \\\n",
       "0    98  12     1.02     99    13       1.04     96    10       0.99    3   \n",
       "1    78  10     1.34     82    12       1.20     90    10       1.34    3   \n",
       "2    72   8     0.65     74    10       0.73     75     9       0.70    3   \n",
       "3    90  14     0.88     99    12       1.04     96    11       0.98    2   \n",
       "4   138  20     1.02    158    34       0.76    172    29       0.66    3   \n",
       "5   123  32     1.65    100    32       1.09     86    29       1.07    1   \n",
       "6   172  45     0.18    198    32       0.20    186    26       0.19    3   \n",
       "7   182  46     0.21    197    42       0.18    202    48       0.16    3   \n",
       "8   182  43     0.76     90    10       1.04    176    43       0.99    2   \n",
       "9    60   6     1.02     64     8       1.04     72    10       0.99    3   \n",
       "10  170   8     1.02    170     8       1.04    170    10       0.99    3   \n",
       "11   80   8     1.02     82     5       1.04     82    10       0.96    2   \n",
       "12  197  46     1.02    192    40       0.89    180    44       0.99    3   \n",
       "13    0   0     0.07      0     0       0.08      0     0       0.06    3   \n",
       "14   62  30     0.19     36     4       0.14      0     0       0.11    3   \n",
       "15    0   0     0.10      0     0       0.11      0     0       0.08    3   \n",
       "16  212  12     0.43    208    46       0.52    187    32       0.40    3   \n",
       "17  182  40     0.21    190    42       0.13    189    20       0.16    3   \n",
       "\n",
       "    ...  Bin1  Bin2  Bin3  Bin4  Bin5  Bin6  Bin7  Bin8  Bin9  Bin10  \n",
       "0   ...  0.45  0.20  0.12  0.08  0.06  0.02  0.02  0.02  0.03   0.00  \n",
       "1   ...  0.39  0.25  0.11  0.05  0.08  0.02  0.02  0.05  0.03   0.00  \n",
       "2   ...  0.40  0.21  0.12  0.11  0.08  0.02  0.01  0.02  0.03   0.01  \n",
       "3   ...  0.38  0.25  0.11  0.10  0.02  0.01  0.01  0.01  0.00   0.00  \n",
       "4   ...  0.36  0.16  0.15  0.08  0.06  0.06  0.06  0.04  0.02   0.00  \n",
       "5   ...  0.45  0.20  0.12  0.08  0.06  0.02  0.02  0.02  0.03   0.00  \n",
       "6   ...  0.45  0.38  0.12  0.05  0.00  0.00  0.00  0.00  0.00   0.00  \n",
       "7   ...  0.52  0.20  0.12  0.10  0.06  0.00  0.00  0.00  0.00   0.00  \n",
       "8   ...  0.45  0.20  0.12  0.08  0.06  0.02  0.02  0.02  0.03   0.00  \n",
       "9   ...  0.50  0.20  0.12  0.08  0.06  0.02  0.02  0.02  0.03   0.00  \n",
       "10  ...  0.45  0.20  0.12  0.08  0.06  0.02  0.02  0.02  0.03   0.00  \n",
       "11  ...  0.44  0.19  0.14  0.08  0.06  0.02  0.02  0.02  0.03   0.00  \n",
       "12  ...  0.37  0.20  0.20  0.12  0.11  0.07  0.03  0.00  0.00   0.00  \n",
       "13  ...  0.90  0.10  0.00  0.00  0.00  0.00  0.00  0.00  0.00   0.00  \n",
       "14  ...  0.76  0.18  0.06  0.00  0.00  0.00  0.00  0.00  0.00   0.00  \n",
       "15  ...  0.80  0.20  0.00  0.00  0.00  0.00  0.00  0.00  0.00   0.00  \n",
       "16  ...  0.24  0.20  0.14  0.12  0.06  0.08  0.07  0.07  0.03   0.00  \n",
       "17  ...  0.60  0.20  0.12  0.08  0.00  0.00  0.00  0.00  0.00   0.00  \n",
       "\n",
       "[18 rows x 27 columns]"
      ]
     },
     "execution_count": 213,
     "metadata": {},
     "output_type": "execute_result"
    }
   ],
   "source": [
    "X"
   ]
  },
  {
   "cell_type": "code",
   "execution_count": 214,
   "id": "2f55c864",
   "metadata": {},
   "outputs": [
    {
     "data": {
      "text/plain": [
       "0     0\n",
       "1     0\n",
       "2     0\n",
       "3     0\n",
       "4     4\n",
       "5     3\n",
       "6     2\n",
       "7     2\n",
       "8     3\n",
       "9     0\n",
       "10    0\n",
       "11    0\n",
       "12    4\n",
       "13    2\n",
       "14    2\n",
       "15    2\n",
       "16    4\n",
       "17    2\n",
       "Name: Class, dtype: int64"
      ]
     },
     "execution_count": 214,
     "metadata": {},
     "output_type": "execute_result"
    }
   ],
   "source": [
    "y"
   ]
  },
  {
   "cell_type": "code",
   "execution_count": 215,
   "id": "a2c11637",
   "metadata": {},
   "outputs": [
    {
     "name": "stdout",
     "output_type": "stream",
     "text": [
      "HRn            int64\n",
      "Rn             int64\n",
      "QRSAmpn      float64\n",
      "HRn-1          int64\n",
      "Rn-1           int64\n",
      "QRSAmpn-1    float64\n",
      "HRn-2          int64\n",
      "Rn-2           int64\n",
      "QRSAmpn-2    float64\n",
      "SQI            int64\n",
      "Mpfn           int64\n",
      "Mpfn-1         int64\n",
      "Mpfn-2         int64\n",
      "Mpfn-3         int64\n",
      "Mpfn-4         int64\n",
      "Mpfn-5         int64\n",
      "Mpfn-6         int64\n",
      "Bin1         float64\n",
      "Bin2         float64\n",
      "Bin3         float64\n",
      "Bin4         float64\n",
      "Bin5         float64\n",
      "Bin6         float64\n",
      "Bin7         float64\n",
      "Bin8         float64\n",
      "Bin9         float64\n",
      "Bin10        float64\n",
      "Class          int64\n",
      "dtype: object\n",
      "HRn            int64\n",
      "Rn             int64\n",
      "QRSAmpn      float64\n",
      "HRn-1          int64\n",
      "Rn-1           int64\n",
      "QRSAmpn-1    float64\n",
      "HRn-2          int64\n",
      "Rn-2           int64\n",
      "QRSAmpn-2    float64\n",
      "SQI            int64\n",
      "Mpfn           int64\n",
      "Mpfn-1         int64\n",
      "Mpfn-2         int64\n",
      "Mpfn-3         int64\n",
      "Mpfn-4         int64\n",
      "Mpfn-5         int64\n",
      "Mpfn-6         int64\n",
      "Bin1         float64\n",
      "Bin2         float64\n",
      "Bin3         float64\n",
      "Bin4         float64\n",
      "Bin5         float64\n",
      "Bin6         float64\n",
      "Bin7         float64\n",
      "Bin8         float64\n",
      "Bin9         float64\n",
      "Bin10        float64\n",
      "Class          int64\n",
      "dtype: object\n",
      "HRn            int64\n",
      "Rn             int64\n",
      "QRSAmpn      float64\n",
      "HRn-1          int64\n",
      "Rn-1           int64\n",
      "QRSAmpn-1    float64\n",
      "HRn-2          int64\n",
      "Rn-2           int64\n",
      "QRSAmpn-2    float64\n",
      "SQI            int64\n",
      "Mpfn           int64\n",
      "Mpfn-1         int64\n",
      "Mpfn-2         int64\n",
      "Mpfn-3         int64\n",
      "Mpfn-4         int64\n",
      "Mpfn-5         int64\n",
      "Mpfn-6         int64\n",
      "Bin1         float64\n",
      "Bin2         float64\n",
      "Bin3         float64\n",
      "Bin4         float64\n",
      "Bin5         float64\n",
      "Bin6         float64\n",
      "Bin7         float64\n",
      "Bin8         float64\n",
      "Bin9         float64\n",
      "Bin10        float64\n",
      "Class          int64\n",
      "dtype: object\n",
      "HRn            int64\n",
      "Rn             int64\n",
      "QRSAmpn      float64\n",
      "HRn-1          int64\n",
      "Rn-1           int64\n",
      "QRSAmpn-1    float64\n",
      "HRn-2          int64\n",
      "Rn-2           int64\n",
      "QRSAmpn-2    float64\n",
      "SQI            int64\n",
      "Mpfn           int64\n",
      "Mpfn-1         int64\n",
      "Mpfn-2         int64\n",
      "Mpfn-3         int64\n",
      "Mpfn-4         int64\n",
      "Mpfn-5         int64\n",
      "Mpfn-6         int64\n",
      "Bin1         float64\n",
      "Bin2         float64\n",
      "Bin3         float64\n",
      "Bin4         float64\n",
      "Bin5         float64\n",
      "Bin6         float64\n",
      "Bin7         float64\n",
      "Bin8         float64\n",
      "Bin9         float64\n",
      "Bin10        float64\n",
      "Class          int64\n",
      "dtype: object\n",
      "HRn            int64\n",
      "Rn             int64\n",
      "QRSAmpn      float64\n",
      "HRn-1          int64\n",
      "Rn-1           int64\n",
      "QRSAmpn-1    float64\n",
      "HRn-2          int64\n",
      "Rn-2           int64\n",
      "QRSAmpn-2    float64\n",
      "SQI            int64\n",
      "Mpfn           int64\n",
      "Mpfn-1         int64\n",
      "Mpfn-2         int64\n",
      "Mpfn-3         int64\n",
      "Mpfn-4         int64\n",
      "Mpfn-5         int64\n",
      "Mpfn-6         int64\n",
      "Bin1         float64\n",
      "Bin2         float64\n",
      "Bin3         float64\n",
      "Bin4         float64\n",
      "Bin5         float64\n",
      "Bin6         float64\n",
      "Bin7         float64\n",
      "Bin8         float64\n",
      "Bin9         float64\n",
      "Bin10        float64\n",
      "Class          int64\n",
      "dtype: object\n",
      "HRn            int64\n",
      "Rn             int64\n",
      "QRSAmpn      float64\n",
      "HRn-1          int64\n",
      "Rn-1           int64\n",
      "QRSAmpn-1    float64\n",
      "HRn-2          int64\n",
      "Rn-2           int64\n",
      "QRSAmpn-2    float64\n",
      "SQI            int64\n",
      "Mpfn           int64\n",
      "Mpfn-1         int64\n",
      "Mpfn-2         int64\n",
      "Mpfn-3         int64\n",
      "Mpfn-4         int64\n",
      "Mpfn-5         int64\n",
      "Mpfn-6         int64\n",
      "Bin1         float64\n",
      "Bin2         float64\n",
      "Bin3         float64\n",
      "Bin4         float64\n",
      "Bin5         float64\n",
      "Bin6         float64\n",
      "Bin7         float64\n",
      "Bin8         float64\n",
      "Bin9         float64\n",
      "Bin10        float64\n",
      "Class          int64\n",
      "dtype: object\n",
      "HRn            int64\n",
      "Rn             int64\n",
      "QRSAmpn      float64\n",
      "HRn-1          int64\n",
      "Rn-1           int64\n",
      "QRSAmpn-1    float64\n",
      "HRn-2          int64\n",
      "Rn-2           int64\n",
      "QRSAmpn-2    float64\n",
      "SQI            int64\n",
      "Mpfn           int64\n",
      "Mpfn-1         int64\n",
      "Mpfn-2         int64\n",
      "Mpfn-3         int64\n",
      "Mpfn-4         int64\n",
      "Mpfn-5         int64\n",
      "Mpfn-6         int64\n",
      "Bin1         float64\n",
      "Bin2         float64\n",
      "Bin3         float64\n",
      "Bin4         float64\n",
      "Bin5         float64\n",
      "Bin6         float64\n",
      "Bin7         float64\n",
      "Bin8         float64\n",
      "Bin9         float64\n",
      "Bin10        float64\n",
      "Class          int64\n",
      "dtype: object\n",
      "HRn            int64\n",
      "Rn             int64\n",
      "QRSAmpn      float64\n",
      "HRn-1          int64\n",
      "Rn-1           int64\n",
      "QRSAmpn-1    float64\n",
      "HRn-2          int64\n",
      "Rn-2           int64\n",
      "QRSAmpn-2    float64\n",
      "SQI            int64\n",
      "Mpfn           int64\n",
      "Mpfn-1         int64\n",
      "Mpfn-2         int64\n",
      "Mpfn-3         int64\n",
      "Mpfn-4         int64\n",
      "Mpfn-5         int64\n",
      "Mpfn-6         int64\n",
      "Bin1         float64\n",
      "Bin2         float64\n",
      "Bin3         float64\n",
      "Bin4         float64\n",
      "Bin5         float64\n",
      "Bin6         float64\n",
      "Bin7         float64\n",
      "Bin8         float64\n",
      "Bin9         float64\n",
      "Bin10        float64\n",
      "Class          int64\n",
      "dtype: object\n",
      "HRn            int64\n",
      "Rn             int64\n",
      "QRSAmpn      float64\n",
      "HRn-1          int64\n",
      "Rn-1           int64\n",
      "QRSAmpn-1    float64\n",
      "HRn-2          int64\n",
      "Rn-2           int64\n",
      "QRSAmpn-2    float64\n",
      "SQI            int64\n",
      "Mpfn           int64\n",
      "Mpfn-1         int64\n",
      "Mpfn-2         int64\n",
      "Mpfn-3         int64\n",
      "Mpfn-4         int64\n",
      "Mpfn-5         int64\n",
      "Mpfn-6         int64\n",
      "Bin1         float64\n",
      "Bin2         float64\n",
      "Bin3         float64\n",
      "Bin4         float64\n",
      "Bin5         float64\n",
      "Bin6         float64\n",
      "Bin7         float64\n",
      "Bin8         float64\n",
      "Bin9         float64\n",
      "Bin10        float64\n",
      "Class          int64\n",
      "dtype: object\n",
      "HRn            int64\n",
      "Rn             int64\n",
      "QRSAmpn      float64\n",
      "HRn-1          int64\n",
      "Rn-1           int64\n",
      "QRSAmpn-1    float64\n",
      "HRn-2          int64\n",
      "Rn-2           int64\n",
      "QRSAmpn-2    float64\n",
      "SQI            int64\n",
      "Mpfn           int64\n",
      "Mpfn-1         int64\n",
      "Mpfn-2         int64\n",
      "Mpfn-3         int64\n",
      "Mpfn-4         int64\n",
      "Mpfn-5         int64\n",
      "Mpfn-6         int64\n",
      "Bin1         float64\n",
      "Bin2         float64\n",
      "Bin3         float64\n",
      "Bin4         float64\n",
      "Bin5         float64\n",
      "Bin6         float64\n",
      "Bin7         float64\n",
      "Bin8         float64\n",
      "Bin9         float64\n",
      "Bin10        float64\n",
      "Class          int64\n",
      "dtype: object\n",
      "HRn            int64\n",
      "Rn             int64\n",
      "QRSAmpn      float64\n",
      "HRn-1          int64\n",
      "Rn-1           int64\n",
      "QRSAmpn-1    float64\n",
      "HRn-2          int64\n",
      "Rn-2           int64\n",
      "QRSAmpn-2    float64\n",
      "SQI            int64\n",
      "Mpfn           int64\n",
      "Mpfn-1         int64\n",
      "Mpfn-2         int64\n",
      "Mpfn-3         int64\n",
      "Mpfn-4         int64\n",
      "Mpfn-5         int64\n",
      "Mpfn-6         int64\n",
      "Bin1         float64\n",
      "Bin2         float64\n",
      "Bin3         float64\n",
      "Bin4         float64\n",
      "Bin5         float64\n",
      "Bin6         float64\n",
      "Bin7         float64\n",
      "Bin8         float64\n",
      "Bin9         float64\n",
      "Bin10        float64\n",
      "Class          int64\n",
      "dtype: object\n",
      "HRn            int64\n",
      "Rn             int64\n",
      "QRSAmpn      float64\n",
      "HRn-1          int64\n",
      "Rn-1           int64\n",
      "QRSAmpn-1    float64\n",
      "HRn-2          int64\n",
      "Rn-2           int64\n",
      "QRSAmpn-2    float64\n",
      "SQI            int64\n",
      "Mpfn           int64\n",
      "Mpfn-1         int64\n",
      "Mpfn-2         int64\n",
      "Mpfn-3         int64\n",
      "Mpfn-4         int64\n",
      "Mpfn-5         int64\n",
      "Mpfn-6         int64\n",
      "Bin1         float64\n",
      "Bin2         float64\n",
      "Bin3         float64\n",
      "Bin4         float64\n",
      "Bin5         float64\n",
      "Bin6         float64\n",
      "Bin7         float64\n",
      "Bin8         float64\n",
      "Bin9         float64\n",
      "Bin10        float64\n",
      "Class          int64\n",
      "dtype: object\n",
      "HRn            int64\n",
      "Rn             int64\n",
      "QRSAmpn      float64\n",
      "HRn-1          int64\n",
      "Rn-1           int64\n",
      "QRSAmpn-1    float64\n",
      "HRn-2          int64\n",
      "Rn-2           int64\n",
      "QRSAmpn-2    float64\n",
      "SQI            int64\n",
      "Mpfn           int64\n",
      "Mpfn-1         int64\n",
      "Mpfn-2         int64\n",
      "Mpfn-3         int64\n",
      "Mpfn-4         int64\n",
      "Mpfn-5         int64\n",
      "Mpfn-6         int64\n",
      "Bin1         float64\n",
      "Bin2         float64\n",
      "Bin3         float64\n",
      "Bin4         float64\n",
      "Bin5         float64\n",
      "Bin6         float64\n",
      "Bin7         float64\n",
      "Bin8         float64\n",
      "Bin9         float64\n",
      "Bin10        float64\n",
      "Class          int64\n",
      "dtype: object\n",
      "HRn            int64\n",
      "Rn             int64\n",
      "QRSAmpn      float64\n",
      "HRn-1          int64\n",
      "Rn-1           int64\n",
      "QRSAmpn-1    float64\n",
      "HRn-2          int64\n",
      "Rn-2           int64\n",
      "QRSAmpn-2    float64\n",
      "SQI            int64\n",
      "Mpfn           int64\n",
      "Mpfn-1         int64\n",
      "Mpfn-2         int64\n",
      "Mpfn-3         int64\n",
      "Mpfn-4         int64\n",
      "Mpfn-5         int64\n",
      "Mpfn-6         int64\n",
      "Bin1         float64\n",
      "Bin2         float64\n",
      "Bin3         float64\n",
      "Bin4         float64\n",
      "Bin5         float64\n",
      "Bin6         float64\n",
      "Bin7         float64\n",
      "Bin8         float64\n",
      "Bin9         float64\n",
      "Bin10        float64\n",
      "Class          int64\n",
      "dtype: object\n",
      "HRn            int64\n",
      "Rn             int64\n",
      "QRSAmpn      float64\n",
      "HRn-1          int64\n",
      "Rn-1           int64\n",
      "QRSAmpn-1    float64\n",
      "HRn-2          int64\n",
      "Rn-2           int64\n",
      "QRSAmpn-2    float64\n",
      "SQI            int64\n",
      "Mpfn           int64\n",
      "Mpfn-1         int64\n",
      "Mpfn-2         int64\n",
      "Mpfn-3         int64\n",
      "Mpfn-4         int64\n",
      "Mpfn-5         int64\n",
      "Mpfn-6         int64\n",
      "Bin1         float64\n",
      "Bin2         float64\n",
      "Bin3         float64\n",
      "Bin4         float64\n",
      "Bin5         float64\n",
      "Bin6         float64\n",
      "Bin7         float64\n",
      "Bin8         float64\n",
      "Bin9         float64\n",
      "Bin10        float64\n",
      "Class          int64\n",
      "dtype: object\n",
      "HRn            int64\n",
      "Rn             int64\n",
      "QRSAmpn      float64\n",
      "HRn-1          int64\n",
      "Rn-1           int64\n",
      "QRSAmpn-1    float64\n",
      "HRn-2          int64\n",
      "Rn-2           int64\n",
      "QRSAmpn-2    float64\n",
      "SQI            int64\n",
      "Mpfn           int64\n",
      "Mpfn-1         int64\n",
      "Mpfn-2         int64\n",
      "Mpfn-3         int64\n",
      "Mpfn-4         int64\n",
      "Mpfn-5         int64\n",
      "Mpfn-6         int64\n",
      "Bin1         float64\n",
      "Bin2         float64\n",
      "Bin3         float64\n",
      "Bin4         float64\n",
      "Bin5         float64\n",
      "Bin6         float64\n",
      "Bin7         float64\n",
      "Bin8         float64\n",
      "Bin9         float64\n",
      "Bin10        float64\n",
      "Class          int64\n",
      "dtype: object\n",
      "HRn            int64\n",
      "Rn             int64\n",
      "QRSAmpn      float64\n",
      "HRn-1          int64\n",
      "Rn-1           int64\n",
      "QRSAmpn-1    float64\n",
      "HRn-2          int64\n",
      "Rn-2           int64\n",
      "QRSAmpn-2    float64\n",
      "SQI            int64\n",
      "Mpfn           int64\n",
      "Mpfn-1         int64\n",
      "Mpfn-2         int64\n",
      "Mpfn-3         int64\n",
      "Mpfn-4         int64\n",
      "Mpfn-5         int64\n",
      "Mpfn-6         int64\n",
      "Bin1         float64\n",
      "Bin2         float64\n",
      "Bin3         float64\n",
      "Bin4         float64\n",
      "Bin5         float64\n",
      "Bin6         float64\n",
      "Bin7         float64\n",
      "Bin8         float64\n",
      "Bin9         float64\n",
      "Bin10        float64\n",
      "Class          int64\n",
      "dtype: object\n",
      "HRn            int64\n",
      "Rn             int64\n",
      "QRSAmpn      float64\n",
      "HRn-1          int64\n",
      "Rn-1           int64\n",
      "QRSAmpn-1    float64\n",
      "HRn-2          int64\n",
      "Rn-2           int64\n",
      "QRSAmpn-2    float64\n",
      "SQI            int64\n",
      "Mpfn           int64\n",
      "Mpfn-1         int64\n",
      "Mpfn-2         int64\n",
      "Mpfn-3         int64\n",
      "Mpfn-4         int64\n",
      "Mpfn-5         int64\n",
      "Mpfn-6         int64\n",
      "Bin1         float64\n",
      "Bin2         float64\n",
      "Bin3         float64\n",
      "Bin4         float64\n",
      "Bin5         float64\n",
      "Bin6         float64\n",
      "Bin7         float64\n",
      "Bin8         float64\n",
      "Bin9         float64\n",
      "Bin10        float64\n",
      "Class          int64\n",
      "dtype: object\n",
      "HRn            int64\n",
      "Rn             int64\n",
      "QRSAmpn      float64\n",
      "HRn-1          int64\n",
      "Rn-1           int64\n",
      "QRSAmpn-1    float64\n",
      "HRn-2          int64\n",
      "Rn-2           int64\n",
      "QRSAmpn-2    float64\n",
      "SQI            int64\n",
      "Mpfn           int64\n",
      "Mpfn-1         int64\n",
      "Mpfn-2         int64\n",
      "Mpfn-3         int64\n",
      "Mpfn-4         int64\n",
      "Mpfn-5         int64\n",
      "Mpfn-6         int64\n",
      "Bin1         float64\n",
      "Bin2         float64\n",
      "Bin3         float64\n",
      "Bin4         float64\n",
      "Bin5         float64\n",
      "Bin6         float64\n",
      "Bin7         float64\n",
      "Bin8         float64\n",
      "Bin9         float64\n",
      "Bin10        float64\n",
      "Class          int64\n",
      "dtype: object\n",
      "HRn            int64\n",
      "Rn             int64\n",
      "QRSAmpn      float64\n",
      "HRn-1          int64\n",
      "Rn-1           int64\n",
      "QRSAmpn-1    float64\n",
      "HRn-2          int64\n",
      "Rn-2           int64\n",
      "QRSAmpn-2    float64\n",
      "SQI            int64\n",
      "Mpfn           int64\n",
      "Mpfn-1         int64\n",
      "Mpfn-2         int64\n",
      "Mpfn-3         int64\n",
      "Mpfn-4         int64\n",
      "Mpfn-5         int64\n",
      "Mpfn-6         int64\n",
      "Bin1         float64\n",
      "Bin2         float64\n",
      "Bin3         float64\n",
      "Bin4         float64\n",
      "Bin5         float64\n",
      "Bin6         float64\n",
      "Bin7         float64\n",
      "Bin8         float64\n",
      "Bin9         float64\n",
      "Bin10        float64\n",
      "Class          int64\n",
      "dtype: object\n",
      "HRn            int64\n",
      "Rn             int64\n",
      "QRSAmpn      float64\n",
      "HRn-1          int64\n",
      "Rn-1           int64\n",
      "QRSAmpn-1    float64\n",
      "HRn-2          int64\n",
      "Rn-2           int64\n",
      "QRSAmpn-2    float64\n",
      "SQI            int64\n",
      "Mpfn           int64\n",
      "Mpfn-1         int64\n",
      "Mpfn-2         int64\n",
      "Mpfn-3         int64\n",
      "Mpfn-4         int64\n",
      "Mpfn-5         int64\n",
      "Mpfn-6         int64\n",
      "Bin1         float64\n",
      "Bin2         float64\n",
      "Bin3         float64\n",
      "Bin4         float64\n",
      "Bin5         float64\n",
      "Bin6         float64\n",
      "Bin7         float64\n",
      "Bin8         float64\n",
      "Bin9         float64\n",
      "Bin10        float64\n",
      "Class          int64\n",
      "dtype: object\n",
      "HRn            int64\n",
      "Rn             int64\n",
      "QRSAmpn      float64\n",
      "HRn-1          int64\n",
      "Rn-1           int64\n",
      "QRSAmpn-1    float64\n",
      "HRn-2          int64\n",
      "Rn-2           int64\n",
      "QRSAmpn-2    float64\n",
      "SQI            int64\n",
      "Mpfn           int64\n",
      "Mpfn-1         int64\n",
      "Mpfn-2         int64\n",
      "Mpfn-3         int64\n",
      "Mpfn-4         int64\n",
      "Mpfn-5         int64\n",
      "Mpfn-6         int64\n",
      "Bin1         float64\n",
      "Bin2         float64\n",
      "Bin3         float64\n",
      "Bin4         float64\n",
      "Bin5         float64\n",
      "Bin6         float64\n",
      "Bin7         float64\n",
      "Bin8         float64\n",
      "Bin9         float64\n",
      "Bin10        float64\n",
      "Class          int64\n",
      "dtype: object\n",
      "HRn            int64\n",
      "Rn             int64\n",
      "QRSAmpn      float64\n",
      "HRn-1          int64\n",
      "Rn-1           int64\n",
      "QRSAmpn-1    float64\n",
      "HRn-2          int64\n",
      "Rn-2           int64\n",
      "QRSAmpn-2    float64\n",
      "SQI            int64\n",
      "Mpfn           int64\n",
      "Mpfn-1         int64\n",
      "Mpfn-2         int64\n",
      "Mpfn-3         int64\n",
      "Mpfn-4         int64\n",
      "Mpfn-5         int64\n",
      "Mpfn-6         int64\n",
      "Bin1         float64\n",
      "Bin2         float64\n",
      "Bin3         float64\n",
      "Bin4         float64\n",
      "Bin5         float64\n",
      "Bin6         float64\n",
      "Bin7         float64\n",
      "Bin8         float64\n",
      "Bin9         float64\n",
      "Bin10        float64\n",
      "Class          int64\n",
      "dtype: object\n",
      "HRn            int64\n",
      "Rn             int64\n",
      "QRSAmpn      float64\n",
      "HRn-1          int64\n",
      "Rn-1           int64\n",
      "QRSAmpn-1    float64\n",
      "HRn-2          int64\n",
      "Rn-2           int64\n",
      "QRSAmpn-2    float64\n",
      "SQI            int64\n",
      "Mpfn           int64\n",
      "Mpfn-1         int64\n",
      "Mpfn-2         int64\n",
      "Mpfn-3         int64\n",
      "Mpfn-4         int64\n",
      "Mpfn-5         int64\n",
      "Mpfn-6         int64\n",
      "Bin1         float64\n",
      "Bin2         float64\n",
      "Bin3         float64\n",
      "Bin4         float64\n",
      "Bin5         float64\n",
      "Bin6         float64\n",
      "Bin7         float64\n",
      "Bin8         float64\n",
      "Bin9         float64\n",
      "Bin10        float64\n",
      "Class          int64\n",
      "dtype: object\n",
      "HRn            int64\n",
      "Rn             int64\n",
      "QRSAmpn      float64\n",
      "HRn-1          int64\n",
      "Rn-1           int64\n",
      "QRSAmpn-1    float64\n",
      "HRn-2          int64\n",
      "Rn-2           int64\n",
      "QRSAmpn-2    float64\n",
      "SQI            int64\n",
      "Mpfn           int64\n",
      "Mpfn-1         int64\n",
      "Mpfn-2         int64\n",
      "Mpfn-3         int64\n",
      "Mpfn-4         int64\n",
      "Mpfn-5         int64\n",
      "Mpfn-6         int64\n",
      "Bin1         float64\n",
      "Bin2         float64\n",
      "Bin3         float64\n",
      "Bin4         float64\n",
      "Bin5         float64\n",
      "Bin6         float64\n",
      "Bin7         float64\n",
      "Bin8         float64\n",
      "Bin9         float64\n",
      "Bin10        float64\n",
      "Class          int64\n",
      "dtype: object\n",
      "HRn            int64\n",
      "Rn             int64\n",
      "QRSAmpn      float64\n",
      "HRn-1          int64\n",
      "Rn-1           int64\n",
      "QRSAmpn-1    float64\n",
      "HRn-2          int64\n",
      "Rn-2           int64\n",
      "QRSAmpn-2    float64\n",
      "SQI            int64\n",
      "Mpfn           int64\n",
      "Mpfn-1         int64\n",
      "Mpfn-2         int64\n",
      "Mpfn-3         int64\n",
      "Mpfn-4         int64\n",
      "Mpfn-5         int64\n",
      "Mpfn-6         int64\n",
      "Bin1         float64\n",
      "Bin2         float64\n",
      "Bin3         float64\n",
      "Bin4         float64\n",
      "Bin5         float64\n",
      "Bin6         float64\n",
      "Bin7         float64\n",
      "Bin8         float64\n",
      "Bin9         float64\n",
      "Bin10        float64\n",
      "Class          int64\n",
      "dtype: object\n",
      "HRn            int64\n",
      "Rn             int64\n",
      "QRSAmpn      float64\n",
      "HRn-1          int64\n",
      "Rn-1           int64\n",
      "QRSAmpn-1    float64\n",
      "HRn-2          int64\n",
      "Rn-2           int64\n",
      "QRSAmpn-2    float64\n",
      "SQI            int64\n",
      "Mpfn           int64\n",
      "Mpfn-1         int64\n",
      "Mpfn-2         int64\n",
      "Mpfn-3         int64\n",
      "Mpfn-4         int64\n",
      "Mpfn-5         int64\n",
      "Mpfn-6         int64\n",
      "Bin1         float64\n",
      "Bin2         float64\n",
      "Bin3         float64\n",
      "Bin4         float64\n",
      "Bin5         float64\n",
      "Bin6         float64\n",
      "Bin7         float64\n",
      "Bin8         float64\n",
      "Bin9         float64\n",
      "Bin10        float64\n",
      "Class          int64\n",
      "dtype: object\n",
      "HRn            int64\n",
      "Rn             int64\n",
      "QRSAmpn      float64\n",
      "HRn-1          int64\n",
      "Rn-1           int64\n",
      "QRSAmpn-1    float64\n",
      "HRn-2          int64\n",
      "Rn-2           int64\n",
      "QRSAmpn-2    float64\n",
      "SQI            int64\n",
      "Mpfn           int64\n",
      "Mpfn-1         int64\n",
      "Mpfn-2         int64\n",
      "Mpfn-3         int64\n",
      "Mpfn-4         int64\n",
      "Mpfn-5         int64\n",
      "Mpfn-6         int64\n",
      "Bin1         float64\n",
      "Bin2         float64\n",
      "Bin3         float64\n",
      "Bin4         float64\n",
      "Bin5         float64\n",
      "Bin6         float64\n",
      "Bin7         float64\n",
      "Bin8         float64\n",
      "Bin9         float64\n",
      "Bin10        float64\n",
      "Class          int64\n",
      "dtype: object\n"
     ]
    }
   ],
   "source": [
    "for col in df.columns:\n",
    "    print(df.dtypes)"
   ]
  },
  {
   "cell_type": "markdown",
   "id": "6c8e470e",
   "metadata": {},
   "source": [
    "Splitting the dataset into train test "
   ]
  },
  {
   "cell_type": "code",
   "execution_count": 216,
   "id": "aae91c10",
   "metadata": {},
   "outputs": [],
   "source": [
    "X_train, X_test, y_train, y_test = train_test_split(X, y, test_size=0.2, random_state=42)"
   ]
  },
  {
   "cell_type": "markdown",
   "id": "86e72230",
   "metadata": {},
   "source": [
    "# Deep Neural Network "
   ]
  },
  {
   "cell_type": "code",
   "execution_count": 217,
   "id": "b360efbb",
   "metadata": {},
   "outputs": [],
   "source": [
    "model = keras.Sequential([\n",
    "    layers.Dense(64, activation='relu', input_shape=[X_train.shape[1]]),\n",
    "    layers.Dense(32, activation='relu'),\n",
    "    layers.Dense(5, activation='softmax')\n",
    "])"
   ]
  },
  {
   "cell_type": "code",
   "execution_count": 218,
   "id": "920fc98e",
   "metadata": {},
   "outputs": [],
   "source": [
    "model.compile(\n",
    "    optimizer='adam',\n",
    "    loss='sparse_categorical_crossentropy',\n",
    "    metrics=['accuracy']\n",
    ")"
   ]
  },
  {
   "cell_type": "code",
   "execution_count": 219,
   "id": "23aa046a",
   "metadata": {},
   "outputs": [
    {
     "name": "stdout",
     "output_type": "stream",
     "text": [
      "Epoch 1/50\n",
      "1/1 [==============================] - 1s 541ms/step - loss: 34.8769 - accuracy: 0.0000e+00 - val_loss: 42.4225 - val_accuracy: 0.0000e+00\n",
      "Epoch 2/50\n",
      "1/1 [==============================] - 0s 26ms/step - loss: 28.5727 - accuracy: 0.0000e+00 - val_loss: 35.4837 - val_accuracy: 0.0000e+00\n",
      "Epoch 3/50\n",
      "1/1 [==============================] - 0s 32ms/step - loss: 22.6575 - accuracy: 0.0909 - val_loss: 28.6367 - val_accuracy: 0.0000e+00\n",
      "Epoch 4/50\n",
      "1/1 [==============================] - 0s 26ms/step - loss: 17.0799 - accuracy: 0.0909 - val_loss: 22.1204 - val_accuracy: 0.0000e+00\n",
      "Epoch 5/50\n",
      "1/1 [==============================] - 0s 26ms/step - loss: 11.7993 - accuracy: 0.0909 - val_loss: 16.2904 - val_accuracy: 0.0000e+00\n",
      "Epoch 6/50\n",
      "1/1 [==============================] - 0s 32ms/step - loss: 8.0692 - accuracy: 0.3636 - val_loss: 12.2427 - val_accuracy: 0.0000e+00\n",
      "Epoch 7/50\n",
      "1/1 [==============================] - 0s 30ms/step - loss: 6.2479 - accuracy: 0.4545 - val_loss: 8.6096 - val_accuracy: 0.3333\n",
      "Epoch 8/50\n",
      "1/1 [==============================] - 0s 30ms/step - loss: 5.0209 - accuracy: 0.7273 - val_loss: 6.2870 - val_accuracy: 0.3333\n",
      "Epoch 9/50\n",
      "1/1 [==============================] - 0s 31ms/step - loss: 3.8910 - accuracy: 0.7273 - val_loss: 4.0985 - val_accuracy: 0.3333\n",
      "Epoch 10/50\n",
      "1/1 [==============================] - 0s 32ms/step - loss: 2.7941 - accuracy: 0.7273 - val_loss: 1.9930 - val_accuracy: 0.6667\n",
      "Epoch 11/50\n",
      "1/1 [==============================] - 0s 32ms/step - loss: 1.9302 - accuracy: 0.5455 - val_loss: 0.4617 - val_accuracy: 0.6667\n",
      "Epoch 12/50\n",
      "1/1 [==============================] - 0s 32ms/step - loss: 1.9866 - accuracy: 0.3636 - val_loss: 0.2365 - val_accuracy: 1.0000\n",
      "Epoch 13/50\n",
      "1/1 [==============================] - 0s 32ms/step - loss: 2.6143 - accuracy: 0.1818 - val_loss: 0.1854 - val_accuracy: 1.0000\n",
      "Epoch 14/50\n",
      "1/1 [==============================] - 0s 32ms/step - loss: 2.8310 - accuracy: 0.1818 - val_loss: 0.2318 - val_accuracy: 1.0000\n",
      "Epoch 15/50\n",
      "1/1 [==============================] - 0s 32ms/step - loss: 2.5316 - accuracy: 0.1818 - val_loss: 0.8614 - val_accuracy: 0.6667\n",
      "Epoch 16/50\n",
      "1/1 [==============================] - 0s 32ms/step - loss: 2.0903 - accuracy: 0.4545 - val_loss: 1.8308 - val_accuracy: 0.6667\n",
      "Epoch 17/50\n",
      "1/1 [==============================] - 0s 32ms/step - loss: 1.9719 - accuracy: 0.5455 - val_loss: 2.5589 - val_accuracy: 0.6667\n",
      "Epoch 18/50\n",
      "1/1 [==============================] - 0s 39ms/step - loss: 2.0644 - accuracy: 0.4545 - val_loss: 2.8289 - val_accuracy: 0.6667\n",
      "Epoch 19/50\n",
      "1/1 [==============================] - 0s 55ms/step - loss: 1.9885 - accuracy: 0.6364 - val_loss: 2.6901 - val_accuracy: 0.6667\n",
      "Epoch 20/50\n",
      "1/1 [==============================] - 0s 39ms/step - loss: 1.7146 - accuracy: 0.6364 - val_loss: 2.2479 - val_accuracy: 0.6667\n",
      "Epoch 21/50\n",
      "1/1 [==============================] - 0s 34ms/step - loss: 1.4260 - accuracy: 0.7273 - val_loss: 1.6339 - val_accuracy: 0.6667\n",
      "Epoch 22/50\n",
      "1/1 [==============================] - 0s 30ms/step - loss: 1.2238 - accuracy: 0.8182 - val_loss: 1.0059 - val_accuracy: 0.6667\n",
      "Epoch 23/50\n",
      "1/1 [==============================] - 0s 34ms/step - loss: 1.1171 - accuracy: 0.8182 - val_loss: 0.5582 - val_accuracy: 0.6667\n",
      "Epoch 24/50\n",
      "1/1 [==============================] - 0s 34ms/step - loss: 1.0855 - accuracy: 0.8182 - val_loss: 0.3543 - val_accuracy: 0.6667\n",
      "Epoch 25/50\n",
      "1/1 [==============================] - 0s 41ms/step - loss: 1.0827 - accuracy: 0.8182 - val_loss: 0.2906 - val_accuracy: 1.0000\n",
      "Epoch 26/50\n",
      "1/1 [==============================] - 0s 33ms/step - loss: 1.0895 - accuracy: 0.8182 - val_loss: 0.3008 - val_accuracy: 1.0000\n",
      "Epoch 27/50\n",
      "1/1 [==============================] - 0s 34ms/step - loss: 1.0830 - accuracy: 0.7273 - val_loss: 0.3493 - val_accuracy: 1.0000\n",
      "Epoch 28/50\n",
      "1/1 [==============================] - 0s 35ms/step - loss: 1.0597 - accuracy: 0.7273 - val_loss: 0.4091 - val_accuracy: 0.6667\n",
      "Epoch 29/50\n",
      "1/1 [==============================] - 0s 34ms/step - loss: 0.9991 - accuracy: 0.7273 - val_loss: 0.4460 - val_accuracy: 0.6667\n",
      "Epoch 30/50\n",
      "1/1 [==============================] - 0s 32ms/step - loss: 0.9489 - accuracy: 0.7273 - val_loss: 0.4776 - val_accuracy: 0.6667\n",
      "Epoch 31/50\n",
      "1/1 [==============================] - 0s 36ms/step - loss: 0.8816 - accuracy: 0.8182 - val_loss: 0.4591 - val_accuracy: 0.6667\n",
      "Epoch 32/50\n",
      "1/1 [==============================] - 0s 35ms/step - loss: 0.8257 - accuracy: 0.9091 - val_loss: 0.4063 - val_accuracy: 1.0000\n",
      "Epoch 33/50\n",
      "1/1 [==============================] - 0s 39ms/step - loss: 0.7680 - accuracy: 0.9091 - val_loss: 0.3188 - val_accuracy: 1.0000\n",
      "Epoch 34/50\n",
      "1/1 [==============================] - 0s 29ms/step - loss: 0.7081 - accuracy: 0.9091 - val_loss: 0.2214 - val_accuracy: 1.0000\n",
      "Epoch 35/50\n",
      "1/1 [==============================] - 0s 29ms/step - loss: 0.6494 - accuracy: 0.9091 - val_loss: 0.1472 - val_accuracy: 1.0000\n",
      "Epoch 36/50\n",
      "1/1 [==============================] - 0s 34ms/step - loss: 0.5985 - accuracy: 0.9091 - val_loss: 0.1034 - val_accuracy: 1.0000\n",
      "Epoch 37/50\n",
      "1/1 [==============================] - 0s 32ms/step - loss: 0.5664 - accuracy: 0.8182 - val_loss: 0.0795 - val_accuracy: 1.0000\n",
      "Epoch 38/50\n",
      "1/1 [==============================] - 0s 28ms/step - loss: 0.5430 - accuracy: 0.8182 - val_loss: 0.0732 - val_accuracy: 1.0000\n",
      "Epoch 39/50\n",
      "1/1 [==============================] - 0s 26ms/step - loss: 0.5192 - accuracy: 0.8182 - val_loss: 0.0839 - val_accuracy: 1.0000\n",
      "Epoch 40/50\n",
      "1/1 [==============================] - 0s 33ms/step - loss: 0.4914 - accuracy: 0.8182 - val_loss: 0.1130 - val_accuracy: 1.0000\n",
      "Epoch 41/50\n",
      "1/1 [==============================] - 0s 26ms/step - loss: 0.4666 - accuracy: 0.8182 - val_loss: 0.1603 - val_accuracy: 1.0000\n",
      "Epoch 42/50\n",
      "1/1 [==============================] - 0s 32ms/step - loss: 0.4486 - accuracy: 0.8182 - val_loss: 0.2163 - val_accuracy: 1.0000\n",
      "Epoch 43/50\n",
      "1/1 [==============================] - 0s 30ms/step - loss: 0.4513 - accuracy: 0.8182 - val_loss: 0.2626 - val_accuracy: 1.0000\n",
      "Epoch 44/50\n",
      "1/1 [==============================] - 0s 26ms/step - loss: 0.4502 - accuracy: 0.8182 - val_loss: 0.2820 - val_accuracy: 1.0000\n",
      "Epoch 45/50\n",
      "1/1 [==============================] - 0s 23ms/step - loss: 0.4401 - accuracy: 0.8182 - val_loss: 0.2674 - val_accuracy: 1.0000\n",
      "Epoch 46/50\n",
      "1/1 [==============================] - 0s 25ms/step - loss: 0.4247 - accuracy: 0.8182 - val_loss: 0.2285 - val_accuracy: 1.0000\n",
      "Epoch 47/50\n",
      "1/1 [==============================] - 0s 24ms/step - loss: 0.4065 - accuracy: 0.8182 - val_loss: 0.1836 - val_accuracy: 1.0000\n",
      "Epoch 48/50\n",
      "1/1 [==============================] - 0s 27ms/step - loss: 0.3903 - accuracy: 0.8182 - val_loss: 0.1472 - val_accuracy: 1.0000\n",
      "Epoch 49/50\n",
      "1/1 [==============================] - 0s 27ms/step - loss: 0.3774 - accuracy: 0.8182 - val_loss: 0.1258 - val_accuracy: 1.0000\n",
      "Epoch 50/50\n",
      "1/1 [==============================] - 0s 24ms/step - loss: 0.3650 - accuracy: 0.8182 - val_loss: 0.1196 - val_accuracy: 1.0000\n"
     ]
    }
   ],
   "source": [
    "history = model.fit(\n",
    "    X_train, y_train,\n",
    "    validation_split=0.2,\n",
    "    epochs=50,\n",
    "    verbose=1,\n",
    "    batch_size=16\n",
    ")"
   ]
  },
  {
   "cell_type": "code",
   "execution_count": 220,
   "id": "8b1e110c",
   "metadata": {},
   "outputs": [
    {
     "data": {
      "application/vnd.plotly.v1+json": {
       "config": {
        "plotlyServerURL": "https://plot.ly"
       },
       "data": [
        {
         "hovertemplate": "variable=loss<br>Epoch=%{x}<br>Loss=%{y}<extra></extra>",
         "legendgroup": "loss",
         "line": {
          "color": "#636efa",
          "dash": "solid"
         },
         "marker": {
          "symbol": "circle"
         },
         "mode": "lines",
         "name": "loss",
         "orientation": "v",
         "showlegend": true,
         "type": "scatter",
         "x": [
          0,
          1,
          2,
          3,
          4,
          5,
          6,
          7,
          8,
          9,
          10,
          11,
          12,
          13,
          14,
          15,
          16,
          17,
          18,
          19,
          20,
          21,
          22,
          23,
          24,
          25,
          26,
          27,
          28,
          29,
          30,
          31,
          32,
          33,
          34,
          35,
          36,
          37,
          38,
          39,
          40,
          41,
          42,
          43,
          44,
          45,
          46,
          47,
          48,
          49
         ],
         "xaxis": "x",
         "y": [
          34.87692642211914,
          28.572668075561523,
          22.65753936767578,
          17.079912185668945,
          11.799331665039062,
          8.069208145141602,
          6.247887134552002,
          5.020853042602539,
          3.8909997940063477,
          2.794102191925049,
          1.930248737335205,
          1.9865840673446655,
          2.6143083572387695,
          2.831001043319702,
          2.531587839126587,
          2.090332508087158,
          1.9718825817108154,
          2.064363718032837,
          1.9885138273239136,
          1.7146090269088745,
          1.4259997606277466,
          1.2238140106201172,
          1.11710786819458,
          1.0854544639587402,
          1.0826544761657715,
          1.0895040035247803,
          1.0830001831054688,
          1.0596528053283691,
          0.9991029500961304,
          0.9488875865936279,
          0.8815922141075134,
          0.8257099390029907,
          0.7679899334907532,
          0.7081373929977417,
          0.6494165062904358,
          0.5984799861907959,
          0.5664380788803101,
          0.5430072546005249,
          0.5192299485206604,
          0.49144554138183594,
          0.46663716435432434,
          0.4485829174518585,
          0.4513431787490845,
          0.4501529037952423,
          0.44010889530181885,
          0.42465534806251526,
          0.40649983286857605,
          0.3902713656425476,
          0.3774372339248657,
          0.3650021255016327
         ],
         "yaxis": "y"
        },
        {
         "hovertemplate": "variable=val_loss<br>Epoch=%{x}<br>Loss=%{y}<extra></extra>",
         "legendgroup": "val_loss",
         "line": {
          "color": "#EF553B",
          "dash": "solid"
         },
         "marker": {
          "symbol": "circle"
         },
         "mode": "lines",
         "name": "val_loss",
         "orientation": "v",
         "showlegend": true,
         "type": "scatter",
         "x": [
          0,
          1,
          2,
          3,
          4,
          5,
          6,
          7,
          8,
          9,
          10,
          11,
          12,
          13,
          14,
          15,
          16,
          17,
          18,
          19,
          20,
          21,
          22,
          23,
          24,
          25,
          26,
          27,
          28,
          29,
          30,
          31,
          32,
          33,
          34,
          35,
          36,
          37,
          38,
          39,
          40,
          41,
          42,
          43,
          44,
          45,
          46,
          47,
          48,
          49
         ],
         "xaxis": "x",
         "y": [
          42.42254638671875,
          35.48368453979492,
          28.636667251586914,
          22.120412826538086,
          16.29036521911621,
          12.242691040039062,
          8.609561920166016,
          6.286960124969482,
          4.098485469818115,
          1.9929534196853638,
          0.4617135226726532,
          0.23652005195617676,
          0.18539683520793915,
          0.23181700706481934,
          0.8614352345466614,
          1.830809235572815,
          2.558936834335327,
          2.8288700580596924,
          2.6901168823242188,
          2.2479329109191895,
          1.6338509321212769,
          1.0059213638305664,
          0.5581943392753601,
          0.3543134927749634,
          0.2905714213848114,
          0.30081620812416077,
          0.34928762912750244,
          0.40907764434814453,
          0.4460478723049164,
          0.47758159041404724,
          0.45909643173217773,
          0.4063238203525543,
          0.3188095688819885,
          0.22135697305202484,
          0.1471625119447708,
          0.10337120294570923,
          0.07945717126131058,
          0.07324355840682983,
          0.08387499302625656,
          0.1130329892039299,
          0.16028864681720734,
          0.21626894176006317,
          0.26255175471305847,
          0.28202223777770996,
          0.26740267872810364,
          0.22853566706180573,
          0.1835670918226242,
          0.14718396961688995,
          0.1257651299238205,
          0.11961612105369568
         ],
         "yaxis": "y"
        }
       ],
       "layout": {
        "legend": {
         "title": {
          "text": "variable"
         },
         "tracegroupgap": 0
        },
        "template": {
         "data": {
          "bar": [
           {
            "error_x": {
             "color": "#2a3f5f"
            },
            "error_y": {
             "color": "#2a3f5f"
            },
            "marker": {
             "line": {
              "color": "#E5ECF6",
              "width": 0.5
             },
             "pattern": {
              "fillmode": "overlay",
              "size": 10,
              "solidity": 0.2
             }
            },
            "type": "bar"
           }
          ],
          "barpolar": [
           {
            "marker": {
             "line": {
              "color": "#E5ECF6",
              "width": 0.5
             },
             "pattern": {
              "fillmode": "overlay",
              "size": 10,
              "solidity": 0.2
             }
            },
            "type": "barpolar"
           }
          ],
          "carpet": [
           {
            "aaxis": {
             "endlinecolor": "#2a3f5f",
             "gridcolor": "white",
             "linecolor": "white",
             "minorgridcolor": "white",
             "startlinecolor": "#2a3f5f"
            },
            "baxis": {
             "endlinecolor": "#2a3f5f",
             "gridcolor": "white",
             "linecolor": "white",
             "minorgridcolor": "white",
             "startlinecolor": "#2a3f5f"
            },
            "type": "carpet"
           }
          ],
          "choropleth": [
           {
            "colorbar": {
             "outlinewidth": 0,
             "ticks": ""
            },
            "type": "choropleth"
           }
          ],
          "contour": [
           {
            "colorbar": {
             "outlinewidth": 0,
             "ticks": ""
            },
            "colorscale": [
             [
              0,
              "#0d0887"
             ],
             [
              0.1111111111111111,
              "#46039f"
             ],
             [
              0.2222222222222222,
              "#7201a8"
             ],
             [
              0.3333333333333333,
              "#9c179e"
             ],
             [
              0.4444444444444444,
              "#bd3786"
             ],
             [
              0.5555555555555556,
              "#d8576b"
             ],
             [
              0.6666666666666666,
              "#ed7953"
             ],
             [
              0.7777777777777778,
              "#fb9f3a"
             ],
             [
              0.8888888888888888,
              "#fdca26"
             ],
             [
              1,
              "#f0f921"
             ]
            ],
            "type": "contour"
           }
          ],
          "contourcarpet": [
           {
            "colorbar": {
             "outlinewidth": 0,
             "ticks": ""
            },
            "type": "contourcarpet"
           }
          ],
          "heatmap": [
           {
            "colorbar": {
             "outlinewidth": 0,
             "ticks": ""
            },
            "colorscale": [
             [
              0,
              "#0d0887"
             ],
             [
              0.1111111111111111,
              "#46039f"
             ],
             [
              0.2222222222222222,
              "#7201a8"
             ],
             [
              0.3333333333333333,
              "#9c179e"
             ],
             [
              0.4444444444444444,
              "#bd3786"
             ],
             [
              0.5555555555555556,
              "#d8576b"
             ],
             [
              0.6666666666666666,
              "#ed7953"
             ],
             [
              0.7777777777777778,
              "#fb9f3a"
             ],
             [
              0.8888888888888888,
              "#fdca26"
             ],
             [
              1,
              "#f0f921"
             ]
            ],
            "type": "heatmap"
           }
          ],
          "heatmapgl": [
           {
            "colorbar": {
             "outlinewidth": 0,
             "ticks": ""
            },
            "colorscale": [
             [
              0,
              "#0d0887"
             ],
             [
              0.1111111111111111,
              "#46039f"
             ],
             [
              0.2222222222222222,
              "#7201a8"
             ],
             [
              0.3333333333333333,
              "#9c179e"
             ],
             [
              0.4444444444444444,
              "#bd3786"
             ],
             [
              0.5555555555555556,
              "#d8576b"
             ],
             [
              0.6666666666666666,
              "#ed7953"
             ],
             [
              0.7777777777777778,
              "#fb9f3a"
             ],
             [
              0.8888888888888888,
              "#fdca26"
             ],
             [
              1,
              "#f0f921"
             ]
            ],
            "type": "heatmapgl"
           }
          ],
          "histogram": [
           {
            "marker": {
             "pattern": {
              "fillmode": "overlay",
              "size": 10,
              "solidity": 0.2
             }
            },
            "type": "histogram"
           }
          ],
          "histogram2d": [
           {
            "colorbar": {
             "outlinewidth": 0,
             "ticks": ""
            },
            "colorscale": [
             [
              0,
              "#0d0887"
             ],
             [
              0.1111111111111111,
              "#46039f"
             ],
             [
              0.2222222222222222,
              "#7201a8"
             ],
             [
              0.3333333333333333,
              "#9c179e"
             ],
             [
              0.4444444444444444,
              "#bd3786"
             ],
             [
              0.5555555555555556,
              "#d8576b"
             ],
             [
              0.6666666666666666,
              "#ed7953"
             ],
             [
              0.7777777777777778,
              "#fb9f3a"
             ],
             [
              0.8888888888888888,
              "#fdca26"
             ],
             [
              1,
              "#f0f921"
             ]
            ],
            "type": "histogram2d"
           }
          ],
          "histogram2dcontour": [
           {
            "colorbar": {
             "outlinewidth": 0,
             "ticks": ""
            },
            "colorscale": [
             [
              0,
              "#0d0887"
             ],
             [
              0.1111111111111111,
              "#46039f"
             ],
             [
              0.2222222222222222,
              "#7201a8"
             ],
             [
              0.3333333333333333,
              "#9c179e"
             ],
             [
              0.4444444444444444,
              "#bd3786"
             ],
             [
              0.5555555555555556,
              "#d8576b"
             ],
             [
              0.6666666666666666,
              "#ed7953"
             ],
             [
              0.7777777777777778,
              "#fb9f3a"
             ],
             [
              0.8888888888888888,
              "#fdca26"
             ],
             [
              1,
              "#f0f921"
             ]
            ],
            "type": "histogram2dcontour"
           }
          ],
          "mesh3d": [
           {
            "colorbar": {
             "outlinewidth": 0,
             "ticks": ""
            },
            "type": "mesh3d"
           }
          ],
          "parcoords": [
           {
            "line": {
             "colorbar": {
              "outlinewidth": 0,
              "ticks": ""
             }
            },
            "type": "parcoords"
           }
          ],
          "pie": [
           {
            "automargin": true,
            "type": "pie"
           }
          ],
          "scatter": [
           {
            "fillpattern": {
             "fillmode": "overlay",
             "size": 10,
             "solidity": 0.2
            },
            "type": "scatter"
           }
          ],
          "scatter3d": [
           {
            "line": {
             "colorbar": {
              "outlinewidth": 0,
              "ticks": ""
             }
            },
            "marker": {
             "colorbar": {
              "outlinewidth": 0,
              "ticks": ""
             }
            },
            "type": "scatter3d"
           }
          ],
          "scattercarpet": [
           {
            "marker": {
             "colorbar": {
              "outlinewidth": 0,
              "ticks": ""
             }
            },
            "type": "scattercarpet"
           }
          ],
          "scattergeo": [
           {
            "marker": {
             "colorbar": {
              "outlinewidth": 0,
              "ticks": ""
             }
            },
            "type": "scattergeo"
           }
          ],
          "scattergl": [
           {
            "marker": {
             "colorbar": {
              "outlinewidth": 0,
              "ticks": ""
             }
            },
            "type": "scattergl"
           }
          ],
          "scattermapbox": [
           {
            "marker": {
             "colorbar": {
              "outlinewidth": 0,
              "ticks": ""
             }
            },
            "type": "scattermapbox"
           }
          ],
          "scatterpolar": [
           {
            "marker": {
             "colorbar": {
              "outlinewidth": 0,
              "ticks": ""
             }
            },
            "type": "scatterpolar"
           }
          ],
          "scatterpolargl": [
           {
            "marker": {
             "colorbar": {
              "outlinewidth": 0,
              "ticks": ""
             }
            },
            "type": "scatterpolargl"
           }
          ],
          "scatterternary": [
           {
            "marker": {
             "colorbar": {
              "outlinewidth": 0,
              "ticks": ""
             }
            },
            "type": "scatterternary"
           }
          ],
          "surface": [
           {
            "colorbar": {
             "outlinewidth": 0,
             "ticks": ""
            },
            "colorscale": [
             [
              0,
              "#0d0887"
             ],
             [
              0.1111111111111111,
              "#46039f"
             ],
             [
              0.2222222222222222,
              "#7201a8"
             ],
             [
              0.3333333333333333,
              "#9c179e"
             ],
             [
              0.4444444444444444,
              "#bd3786"
             ],
             [
              0.5555555555555556,
              "#d8576b"
             ],
             [
              0.6666666666666666,
              "#ed7953"
             ],
             [
              0.7777777777777778,
              "#fb9f3a"
             ],
             [
              0.8888888888888888,
              "#fdca26"
             ],
             [
              1,
              "#f0f921"
             ]
            ],
            "type": "surface"
           }
          ],
          "table": [
           {
            "cells": {
             "fill": {
              "color": "#EBF0F8"
             },
             "line": {
              "color": "white"
             }
            },
            "header": {
             "fill": {
              "color": "#C8D4E3"
             },
             "line": {
              "color": "white"
             }
            },
            "type": "table"
           }
          ]
         },
         "layout": {
          "annotationdefaults": {
           "arrowcolor": "#2a3f5f",
           "arrowhead": 0,
           "arrowwidth": 1
          },
          "autotypenumbers": "strict",
          "coloraxis": {
           "colorbar": {
            "outlinewidth": 0,
            "ticks": ""
           }
          },
          "colorscale": {
           "diverging": [
            [
             0,
             "#8e0152"
            ],
            [
             0.1,
             "#c51b7d"
            ],
            [
             0.2,
             "#de77ae"
            ],
            [
             0.3,
             "#f1b6da"
            ],
            [
             0.4,
             "#fde0ef"
            ],
            [
             0.5,
             "#f7f7f7"
            ],
            [
             0.6,
             "#e6f5d0"
            ],
            [
             0.7,
             "#b8e186"
            ],
            [
             0.8,
             "#7fbc41"
            ],
            [
             0.9,
             "#4d9221"
            ],
            [
             1,
             "#276419"
            ]
           ],
           "sequential": [
            [
             0,
             "#0d0887"
            ],
            [
             0.1111111111111111,
             "#46039f"
            ],
            [
             0.2222222222222222,
             "#7201a8"
            ],
            [
             0.3333333333333333,
             "#9c179e"
            ],
            [
             0.4444444444444444,
             "#bd3786"
            ],
            [
             0.5555555555555556,
             "#d8576b"
            ],
            [
             0.6666666666666666,
             "#ed7953"
            ],
            [
             0.7777777777777778,
             "#fb9f3a"
            ],
            [
             0.8888888888888888,
             "#fdca26"
            ],
            [
             1,
             "#f0f921"
            ]
           ],
           "sequentialminus": [
            [
             0,
             "#0d0887"
            ],
            [
             0.1111111111111111,
             "#46039f"
            ],
            [
             0.2222222222222222,
             "#7201a8"
            ],
            [
             0.3333333333333333,
             "#9c179e"
            ],
            [
             0.4444444444444444,
             "#bd3786"
            ],
            [
             0.5555555555555556,
             "#d8576b"
            ],
            [
             0.6666666666666666,
             "#ed7953"
            ],
            [
             0.7777777777777778,
             "#fb9f3a"
            ],
            [
             0.8888888888888888,
             "#fdca26"
            ],
            [
             1,
             "#f0f921"
            ]
           ]
          },
          "colorway": [
           "#636efa",
           "#EF553B",
           "#00cc96",
           "#ab63fa",
           "#FFA15A",
           "#19d3f3",
           "#FF6692",
           "#B6E880",
           "#FF97FF",
           "#FECB52"
          ],
          "font": {
           "color": "#2a3f5f"
          },
          "geo": {
           "bgcolor": "white",
           "lakecolor": "white",
           "landcolor": "#E5ECF6",
           "showlakes": true,
           "showland": true,
           "subunitcolor": "white"
          },
          "hoverlabel": {
           "align": "left"
          },
          "hovermode": "closest",
          "mapbox": {
           "style": "light"
          },
          "paper_bgcolor": "white",
          "plot_bgcolor": "#E5ECF6",
          "polar": {
           "angularaxis": {
            "gridcolor": "white",
            "linecolor": "white",
            "ticks": ""
           },
           "bgcolor": "#E5ECF6",
           "radialaxis": {
            "gridcolor": "white",
            "linecolor": "white",
            "ticks": ""
           }
          },
          "scene": {
           "xaxis": {
            "backgroundcolor": "#E5ECF6",
            "gridcolor": "white",
            "gridwidth": 2,
            "linecolor": "white",
            "showbackground": true,
            "ticks": "",
            "zerolinecolor": "white"
           },
           "yaxis": {
            "backgroundcolor": "#E5ECF6",
            "gridcolor": "white",
            "gridwidth": 2,
            "linecolor": "white",
            "showbackground": true,
            "ticks": "",
            "zerolinecolor": "white"
           },
           "zaxis": {
            "backgroundcolor": "#E5ECF6",
            "gridcolor": "white",
            "gridwidth": 2,
            "linecolor": "white",
            "showbackground": true,
            "ticks": "",
            "zerolinecolor": "white"
           }
          },
          "shapedefaults": {
           "line": {
            "color": "#2a3f5f"
           }
          },
          "ternary": {
           "aaxis": {
            "gridcolor": "white",
            "linecolor": "white",
            "ticks": ""
           },
           "baxis": {
            "gridcolor": "white",
            "linecolor": "white",
            "ticks": ""
           },
           "bgcolor": "#E5ECF6",
           "caxis": {
            "gridcolor": "white",
            "linecolor": "white",
            "ticks": ""
           }
          },
          "title": {
           "x": 0.05
          },
          "xaxis": {
           "automargin": true,
           "gridcolor": "white",
           "linecolor": "white",
           "ticks": "",
           "title": {
            "standoff": 15
           },
           "zerolinecolor": "white",
           "zerolinewidth": 2
          },
          "yaxis": {
           "automargin": true,
           "gridcolor": "white",
           "linecolor": "white",
           "ticks": "",
           "title": {
            "standoff": 15
           },
           "zerolinecolor": "white",
           "zerolinewidth": 2
          }
         }
        },
        "title": {
         "text": "Training and Validation Loss Over Time"
        },
        "xaxis": {
         "anchor": "y",
         "domain": [
          0,
          1
         ],
         "title": {
          "text": "Epoch"
         }
        },
        "yaxis": {
         "anchor": "x",
         "domain": [
          0,
          1
         ],
         "title": {
          "text": "Loss"
         }
        }
       }
      },
      "text/html": [
       "<div>                            <div id=\"1ac21f3d-3b59-4e45-8f2f-0e5978a9188f\" class=\"plotly-graph-div\" style=\"height:525px; width:100%;\"></div>            <script type=\"text/javascript\">                require([\"plotly\"], function(Plotly) {                    window.PLOTLYENV=window.PLOTLYENV || {};                                    if (document.getElementById(\"1ac21f3d-3b59-4e45-8f2f-0e5978a9188f\")) {                    Plotly.newPlot(                        \"1ac21f3d-3b59-4e45-8f2f-0e5978a9188f\",                        [{\"hovertemplate\":\"variable=loss<br>Epoch=%{x}<br>Loss=%{y}<extra></extra>\",\"legendgroup\":\"loss\",\"line\":{\"color\":\"#636efa\",\"dash\":\"solid\"},\"marker\":{\"symbol\":\"circle\"},\"mode\":\"lines\",\"name\":\"loss\",\"orientation\":\"v\",\"showlegend\":true,\"x\":[0,1,2,3,4,5,6,7,8,9,10,11,12,13,14,15,16,17,18,19,20,21,22,23,24,25,26,27,28,29,30,31,32,33,34,35,36,37,38,39,40,41,42,43,44,45,46,47,48,49],\"xaxis\":\"x\",\"y\":[34.87692642211914,28.572668075561523,22.65753936767578,17.079912185668945,11.799331665039062,8.069208145141602,6.247887134552002,5.020853042602539,3.8909997940063477,2.794102191925049,1.930248737335205,1.9865840673446655,2.6143083572387695,2.831001043319702,2.531587839126587,2.090332508087158,1.9718825817108154,2.064363718032837,1.9885138273239136,1.7146090269088745,1.4259997606277466,1.2238140106201172,1.11710786819458,1.0854544639587402,1.0826544761657715,1.0895040035247803,1.0830001831054688,1.0596528053283691,0.9991029500961304,0.9488875865936279,0.8815922141075134,0.8257099390029907,0.7679899334907532,0.7081373929977417,0.6494165062904358,0.5984799861907959,0.5664380788803101,0.5430072546005249,0.5192299485206604,0.49144554138183594,0.46663716435432434,0.4485829174518585,0.4513431787490845,0.4501529037952423,0.44010889530181885,0.42465534806251526,0.40649983286857605,0.3902713656425476,0.3774372339248657,0.3650021255016327],\"yaxis\":\"y\",\"type\":\"scatter\"},{\"hovertemplate\":\"variable=val_loss<br>Epoch=%{x}<br>Loss=%{y}<extra></extra>\",\"legendgroup\":\"val_loss\",\"line\":{\"color\":\"#EF553B\",\"dash\":\"solid\"},\"marker\":{\"symbol\":\"circle\"},\"mode\":\"lines\",\"name\":\"val_loss\",\"orientation\":\"v\",\"showlegend\":true,\"x\":[0,1,2,3,4,5,6,7,8,9,10,11,12,13,14,15,16,17,18,19,20,21,22,23,24,25,26,27,28,29,30,31,32,33,34,35,36,37,38,39,40,41,42,43,44,45,46,47,48,49],\"xaxis\":\"x\",\"y\":[42.42254638671875,35.48368453979492,28.636667251586914,22.120412826538086,16.29036521911621,12.242691040039062,8.609561920166016,6.286960124969482,4.098485469818115,1.9929534196853638,0.4617135226726532,0.23652005195617676,0.18539683520793915,0.23181700706481934,0.8614352345466614,1.830809235572815,2.558936834335327,2.8288700580596924,2.6901168823242188,2.2479329109191895,1.6338509321212769,1.0059213638305664,0.5581943392753601,0.3543134927749634,0.2905714213848114,0.30081620812416077,0.34928762912750244,0.40907764434814453,0.4460478723049164,0.47758159041404724,0.45909643173217773,0.4063238203525543,0.3188095688819885,0.22135697305202484,0.1471625119447708,0.10337120294570923,0.07945717126131058,0.07324355840682983,0.08387499302625656,0.1130329892039299,0.16028864681720734,0.21626894176006317,0.26255175471305847,0.28202223777770996,0.26740267872810364,0.22853566706180573,0.1835670918226242,0.14718396961688995,0.1257651299238205,0.11961612105369568],\"yaxis\":\"y\",\"type\":\"scatter\"}],                        {\"template\":{\"data\":{\"histogram2dcontour\":[{\"type\":\"histogram2dcontour\",\"colorbar\":{\"outlinewidth\":0,\"ticks\":\"\"},\"colorscale\":[[0.0,\"#0d0887\"],[0.1111111111111111,\"#46039f\"],[0.2222222222222222,\"#7201a8\"],[0.3333333333333333,\"#9c179e\"],[0.4444444444444444,\"#bd3786\"],[0.5555555555555556,\"#d8576b\"],[0.6666666666666666,\"#ed7953\"],[0.7777777777777778,\"#fb9f3a\"],[0.8888888888888888,\"#fdca26\"],[1.0,\"#f0f921\"]]}],\"choropleth\":[{\"type\":\"choropleth\",\"colorbar\":{\"outlinewidth\":0,\"ticks\":\"\"}}],\"histogram2d\":[{\"type\":\"histogram2d\",\"colorbar\":{\"outlinewidth\":0,\"ticks\":\"\"},\"colorscale\":[[0.0,\"#0d0887\"],[0.1111111111111111,\"#46039f\"],[0.2222222222222222,\"#7201a8\"],[0.3333333333333333,\"#9c179e\"],[0.4444444444444444,\"#bd3786\"],[0.5555555555555556,\"#d8576b\"],[0.6666666666666666,\"#ed7953\"],[0.7777777777777778,\"#fb9f3a\"],[0.8888888888888888,\"#fdca26\"],[1.0,\"#f0f921\"]]}],\"heatmap\":[{\"type\":\"heatmap\",\"colorbar\":{\"outlinewidth\":0,\"ticks\":\"\"},\"colorscale\":[[0.0,\"#0d0887\"],[0.1111111111111111,\"#46039f\"],[0.2222222222222222,\"#7201a8\"],[0.3333333333333333,\"#9c179e\"],[0.4444444444444444,\"#bd3786\"],[0.5555555555555556,\"#d8576b\"],[0.6666666666666666,\"#ed7953\"],[0.7777777777777778,\"#fb9f3a\"],[0.8888888888888888,\"#fdca26\"],[1.0,\"#f0f921\"]]}],\"heatmapgl\":[{\"type\":\"heatmapgl\",\"colorbar\":{\"outlinewidth\":0,\"ticks\":\"\"},\"colorscale\":[[0.0,\"#0d0887\"],[0.1111111111111111,\"#46039f\"],[0.2222222222222222,\"#7201a8\"],[0.3333333333333333,\"#9c179e\"],[0.4444444444444444,\"#bd3786\"],[0.5555555555555556,\"#d8576b\"],[0.6666666666666666,\"#ed7953\"],[0.7777777777777778,\"#fb9f3a\"],[0.8888888888888888,\"#fdca26\"],[1.0,\"#f0f921\"]]}],\"contourcarpet\":[{\"type\":\"contourcarpet\",\"colorbar\":{\"outlinewidth\":0,\"ticks\":\"\"}}],\"contour\":[{\"type\":\"contour\",\"colorbar\":{\"outlinewidth\":0,\"ticks\":\"\"},\"colorscale\":[[0.0,\"#0d0887\"],[0.1111111111111111,\"#46039f\"],[0.2222222222222222,\"#7201a8\"],[0.3333333333333333,\"#9c179e\"],[0.4444444444444444,\"#bd3786\"],[0.5555555555555556,\"#d8576b\"],[0.6666666666666666,\"#ed7953\"],[0.7777777777777778,\"#fb9f3a\"],[0.8888888888888888,\"#fdca26\"],[1.0,\"#f0f921\"]]}],\"surface\":[{\"type\":\"surface\",\"colorbar\":{\"outlinewidth\":0,\"ticks\":\"\"},\"colorscale\":[[0.0,\"#0d0887\"],[0.1111111111111111,\"#46039f\"],[0.2222222222222222,\"#7201a8\"],[0.3333333333333333,\"#9c179e\"],[0.4444444444444444,\"#bd3786\"],[0.5555555555555556,\"#d8576b\"],[0.6666666666666666,\"#ed7953\"],[0.7777777777777778,\"#fb9f3a\"],[0.8888888888888888,\"#fdca26\"],[1.0,\"#f0f921\"]]}],\"mesh3d\":[{\"type\":\"mesh3d\",\"colorbar\":{\"outlinewidth\":0,\"ticks\":\"\"}}],\"scatter\":[{\"fillpattern\":{\"fillmode\":\"overlay\",\"size\":10,\"solidity\":0.2},\"type\":\"scatter\"}],\"parcoords\":[{\"type\":\"parcoords\",\"line\":{\"colorbar\":{\"outlinewidth\":0,\"ticks\":\"\"}}}],\"scatterpolargl\":[{\"type\":\"scatterpolargl\",\"marker\":{\"colorbar\":{\"outlinewidth\":0,\"ticks\":\"\"}}}],\"bar\":[{\"error_x\":{\"color\":\"#2a3f5f\"},\"error_y\":{\"color\":\"#2a3f5f\"},\"marker\":{\"line\":{\"color\":\"#E5ECF6\",\"width\":0.5},\"pattern\":{\"fillmode\":\"overlay\",\"size\":10,\"solidity\":0.2}},\"type\":\"bar\"}],\"scattergeo\":[{\"type\":\"scattergeo\",\"marker\":{\"colorbar\":{\"outlinewidth\":0,\"ticks\":\"\"}}}],\"scatterpolar\":[{\"type\":\"scatterpolar\",\"marker\":{\"colorbar\":{\"outlinewidth\":0,\"ticks\":\"\"}}}],\"histogram\":[{\"marker\":{\"pattern\":{\"fillmode\":\"overlay\",\"size\":10,\"solidity\":0.2}},\"type\":\"histogram\"}],\"scattergl\":[{\"type\":\"scattergl\",\"marker\":{\"colorbar\":{\"outlinewidth\":0,\"ticks\":\"\"}}}],\"scatter3d\":[{\"type\":\"scatter3d\",\"line\":{\"colorbar\":{\"outlinewidth\":0,\"ticks\":\"\"}},\"marker\":{\"colorbar\":{\"outlinewidth\":0,\"ticks\":\"\"}}}],\"scattermapbox\":[{\"type\":\"scattermapbox\",\"marker\":{\"colorbar\":{\"outlinewidth\":0,\"ticks\":\"\"}}}],\"scatterternary\":[{\"type\":\"scatterternary\",\"marker\":{\"colorbar\":{\"outlinewidth\":0,\"ticks\":\"\"}}}],\"scattercarpet\":[{\"type\":\"scattercarpet\",\"marker\":{\"colorbar\":{\"outlinewidth\":0,\"ticks\":\"\"}}}],\"carpet\":[{\"aaxis\":{\"endlinecolor\":\"#2a3f5f\",\"gridcolor\":\"white\",\"linecolor\":\"white\",\"minorgridcolor\":\"white\",\"startlinecolor\":\"#2a3f5f\"},\"baxis\":{\"endlinecolor\":\"#2a3f5f\",\"gridcolor\":\"white\",\"linecolor\":\"white\",\"minorgridcolor\":\"white\",\"startlinecolor\":\"#2a3f5f\"},\"type\":\"carpet\"}],\"table\":[{\"cells\":{\"fill\":{\"color\":\"#EBF0F8\"},\"line\":{\"color\":\"white\"}},\"header\":{\"fill\":{\"color\":\"#C8D4E3\"},\"line\":{\"color\":\"white\"}},\"type\":\"table\"}],\"barpolar\":[{\"marker\":{\"line\":{\"color\":\"#E5ECF6\",\"width\":0.5},\"pattern\":{\"fillmode\":\"overlay\",\"size\":10,\"solidity\":0.2}},\"type\":\"barpolar\"}],\"pie\":[{\"automargin\":true,\"type\":\"pie\"}]},\"layout\":{\"autotypenumbers\":\"strict\",\"colorway\":[\"#636efa\",\"#EF553B\",\"#00cc96\",\"#ab63fa\",\"#FFA15A\",\"#19d3f3\",\"#FF6692\",\"#B6E880\",\"#FF97FF\",\"#FECB52\"],\"font\":{\"color\":\"#2a3f5f\"},\"hovermode\":\"closest\",\"hoverlabel\":{\"align\":\"left\"},\"paper_bgcolor\":\"white\",\"plot_bgcolor\":\"#E5ECF6\",\"polar\":{\"bgcolor\":\"#E5ECF6\",\"angularaxis\":{\"gridcolor\":\"white\",\"linecolor\":\"white\",\"ticks\":\"\"},\"radialaxis\":{\"gridcolor\":\"white\",\"linecolor\":\"white\",\"ticks\":\"\"}},\"ternary\":{\"bgcolor\":\"#E5ECF6\",\"aaxis\":{\"gridcolor\":\"white\",\"linecolor\":\"white\",\"ticks\":\"\"},\"baxis\":{\"gridcolor\":\"white\",\"linecolor\":\"white\",\"ticks\":\"\"},\"caxis\":{\"gridcolor\":\"white\",\"linecolor\":\"white\",\"ticks\":\"\"}},\"coloraxis\":{\"colorbar\":{\"outlinewidth\":0,\"ticks\":\"\"}},\"colorscale\":{\"sequential\":[[0.0,\"#0d0887\"],[0.1111111111111111,\"#46039f\"],[0.2222222222222222,\"#7201a8\"],[0.3333333333333333,\"#9c179e\"],[0.4444444444444444,\"#bd3786\"],[0.5555555555555556,\"#d8576b\"],[0.6666666666666666,\"#ed7953\"],[0.7777777777777778,\"#fb9f3a\"],[0.8888888888888888,\"#fdca26\"],[1.0,\"#f0f921\"]],\"sequentialminus\":[[0.0,\"#0d0887\"],[0.1111111111111111,\"#46039f\"],[0.2222222222222222,\"#7201a8\"],[0.3333333333333333,\"#9c179e\"],[0.4444444444444444,\"#bd3786\"],[0.5555555555555556,\"#d8576b\"],[0.6666666666666666,\"#ed7953\"],[0.7777777777777778,\"#fb9f3a\"],[0.8888888888888888,\"#fdca26\"],[1.0,\"#f0f921\"]],\"diverging\":[[0,\"#8e0152\"],[0.1,\"#c51b7d\"],[0.2,\"#de77ae\"],[0.3,\"#f1b6da\"],[0.4,\"#fde0ef\"],[0.5,\"#f7f7f7\"],[0.6,\"#e6f5d0\"],[0.7,\"#b8e186\"],[0.8,\"#7fbc41\"],[0.9,\"#4d9221\"],[1,\"#276419\"]]},\"xaxis\":{\"gridcolor\":\"white\",\"linecolor\":\"white\",\"ticks\":\"\",\"title\":{\"standoff\":15},\"zerolinecolor\":\"white\",\"automargin\":true,\"zerolinewidth\":2},\"yaxis\":{\"gridcolor\":\"white\",\"linecolor\":\"white\",\"ticks\":\"\",\"title\":{\"standoff\":15},\"zerolinecolor\":\"white\",\"automargin\":true,\"zerolinewidth\":2},\"scene\":{\"xaxis\":{\"backgroundcolor\":\"#E5ECF6\",\"gridcolor\":\"white\",\"linecolor\":\"white\",\"showbackground\":true,\"ticks\":\"\",\"zerolinecolor\":\"white\",\"gridwidth\":2},\"yaxis\":{\"backgroundcolor\":\"#E5ECF6\",\"gridcolor\":\"white\",\"linecolor\":\"white\",\"showbackground\":true,\"ticks\":\"\",\"zerolinecolor\":\"white\",\"gridwidth\":2},\"zaxis\":{\"backgroundcolor\":\"#E5ECF6\",\"gridcolor\":\"white\",\"linecolor\":\"white\",\"showbackground\":true,\"ticks\":\"\",\"zerolinecolor\":\"white\",\"gridwidth\":2}},\"shapedefaults\":{\"line\":{\"color\":\"#2a3f5f\"}},\"annotationdefaults\":{\"arrowcolor\":\"#2a3f5f\",\"arrowhead\":0,\"arrowwidth\":1},\"geo\":{\"bgcolor\":\"white\",\"landcolor\":\"#E5ECF6\",\"subunitcolor\":\"white\",\"showland\":true,\"showlakes\":true,\"lakecolor\":\"white\"},\"title\":{\"x\":0.05},\"mapbox\":{\"style\":\"light\"}}},\"xaxis\":{\"anchor\":\"y\",\"domain\":[0.0,1.0],\"title\":{\"text\":\"Epoch\"}},\"yaxis\":{\"anchor\":\"x\",\"domain\":[0.0,1.0],\"title\":{\"text\":\"Loss\"}},\"legend\":{\"title\":{\"text\":\"variable\"},\"tracegroupgap\":0},\"title\":{\"text\":\"Training and Validation Loss Over Time\"}},                        {\"responsive\": true}                    ).then(function(){\n",
       "                            \n",
       "var gd = document.getElementById('1ac21f3d-3b59-4e45-8f2f-0e5978a9188f');\n",
       "var x = new MutationObserver(function (mutations, observer) {{\n",
       "        var display = window.getComputedStyle(gd).display;\n",
       "        if (!display || display === 'none') {{\n",
       "            console.log([gd, 'removed!']);\n",
       "            Plotly.purge(gd);\n",
       "            observer.disconnect();\n",
       "        }}\n",
       "}});\n",
       "\n",
       "// Listen for the removal of the full notebook cells\n",
       "var notebookContainer = gd.closest('#notebook-container');\n",
       "if (notebookContainer) {{\n",
       "    x.observe(notebookContainer, {childList: true});\n",
       "}}\n",
       "\n",
       "// Listen for the clearing of the current output cell\n",
       "var outputEl = gd.closest('.output');\n",
       "if (outputEl) {{\n",
       "    x.observe(outputEl, {childList: true});\n",
       "}}\n",
       "\n",
       "                        })                };                });            </script>        </div>"
      ]
     },
     "metadata": {},
     "output_type": "display_data"
    }
   ],
   "source": [
    "fig = px.line(\n",
    "    history.history, # history will be an object with attributes as list having the metric values for each epoch\n",
    "    y=['loss', 'val_loss'],\n",
    "    labels={'index': \"Epoch\", 'value': \"Loss\"},\n",
    "    title=\"Training and Validation Loss Over Time\"\n",
    ")\n",
    "\n",
    "fig.show()"
   ]
  },
  {
   "cell_type": "code",
   "execution_count": 221,
   "id": "827977b5",
   "metadata": {},
   "outputs": [
    {
     "name": "stdout",
     "output_type": "stream",
     "text": [
      "1/1 - 0s - loss: 19.6139 - accuracy: 0.5000 - 21ms/epoch - 21ms/step\n",
      "\n",
      "Test accuracy: 0.5\n"
     ]
    }
   ],
   "source": [
    "test_loss, test_acc = model.evaluate(X_test, y_test, verbose=2)\n",
    "print('\\nTest accuracy:', test_acc)"
   ]
  },
  {
   "cell_type": "markdown",
   "id": "cff7cd89",
   "metadata": {},
   "source": [
    "# Deep Neural Network with L2 regularizartion"
   ]
  },
  {
   "cell_type": "code",
   "execution_count": 222,
   "id": "2e425a80",
   "metadata": {},
   "outputs": [],
   "source": [
    "from tensorflow.keras.layers import Dropout\n",
    "from tensorflow.keras.regularizers import l2"
   ]
  },
  {
   "cell_type": "code",
   "execution_count": 223,
   "id": "6742c133",
   "metadata": {},
   "outputs": [],
   "source": [
    "model1 = tf.keras.Sequential([\n",
    "    tf.keras.layers.Dense(64, activation='relu', input_shape=[X_train.shape[1]], kernel_regularizer=l2(0.01)),\n",
    "    tf.keras.layers.Dropout(0.5),\n",
    "    tf.keras.layers.Dense(32, activation='relu', kernel_regularizer=l2(0.01)),\n",
    "    tf.keras.layers.Dropout(0.5),\n",
    "    tf.keras.layers.Dense(5, activation='softmax')\n",
    "])"
   ]
  },
  {
   "cell_type": "code",
   "execution_count": 224,
   "id": "3897be8c",
   "metadata": {},
   "outputs": [],
   "source": [
    "model1.compile(optimizer='adam',\n",
    "              loss='sparse_categorical_crossentropy',\n",
    "              metrics=['accuracy'])\n"
   ]
  },
  {
   "cell_type": "code",
   "execution_count": 225,
   "id": "0912ab7c",
   "metadata": {},
   "outputs": [
    {
     "name": "stdout",
     "output_type": "stream",
     "text": [
      "Epoch 1/50\n",
      "1/1 [==============================] - 1s 792ms/step - loss: 71.3883 - accuracy: 0.1818 - val_loss: 50.6494 - val_accuracy: 0.0000e+00\n",
      "Epoch 2/50\n",
      "1/1 [==============================] - 0s 31ms/step - loss: 56.9233 - accuracy: 0.1818 - val_loss: 47.3638 - val_accuracy: 0.0000e+00\n",
      "Epoch 3/50\n",
      "1/1 [==============================] - 0s 32ms/step - loss: 63.8067 - accuracy: 0.0000e+00 - val_loss: 43.9089 - val_accuracy: 0.0000e+00\n",
      "Epoch 4/50\n",
      "1/1 [==============================] - 0s 32ms/step - loss: 37.9346 - accuracy: 0.0909 - val_loss: 40.9775 - val_accuracy: 0.0000e+00\n",
      "Epoch 5/50\n",
      "1/1 [==============================] - 0s 31ms/step - loss: 60.0680 - accuracy: 0.0000e+00 - val_loss: 38.1918 - val_accuracy: 0.0000e+00\n",
      "Epoch 6/50\n",
      "1/1 [==============================] - 0s 33ms/step - loss: 63.4368 - accuracy: 0.0000e+00 - val_loss: 35.1899 - val_accuracy: 0.0000e+00\n",
      "Epoch 7/50\n",
      "1/1 [==============================] - 0s 33ms/step - loss: 41.8978 - accuracy: 0.0909 - val_loss: 32.4208 - val_accuracy: 0.0000e+00\n",
      "Epoch 8/50\n",
      "1/1 [==============================] - 0s 35ms/step - loss: 40.6590 - accuracy: 0.0909 - val_loss: 29.7504 - val_accuracy: 0.0000e+00\n",
      "Epoch 9/50\n",
      "1/1 [==============================] - 0s 43ms/step - loss: 34.5544 - accuracy: 0.1818 - val_loss: 27.3116 - val_accuracy: 0.0000e+00\n",
      "Epoch 10/50\n",
      "1/1 [==============================] - 0s 45ms/step - loss: 51.3801 - accuracy: 0.0909 - val_loss: 24.8820 - val_accuracy: 0.0000e+00\n",
      "Epoch 11/50\n",
      "1/1 [==============================] - 0s 33ms/step - loss: 50.3853 - accuracy: 0.0909 - val_loss: 22.4062 - val_accuracy: 0.0000e+00\n",
      "Epoch 12/50\n",
      "1/1 [==============================] - 0s 32ms/step - loss: 36.9504 - accuracy: 0.0909 - val_loss: 20.0683 - val_accuracy: 0.0000e+00\n",
      "Epoch 13/50\n",
      "1/1 [==============================] - 0s 30ms/step - loss: 38.3418 - accuracy: 0.0909 - val_loss: 17.7073 - val_accuracy: 0.0000e+00\n",
      "Epoch 14/50\n",
      "1/1 [==============================] - 0s 37ms/step - loss: 36.3855 - accuracy: 0.0000e+00 - val_loss: 15.5987 - val_accuracy: 0.0000e+00\n",
      "Epoch 15/50\n",
      "1/1 [==============================] - 0s 36ms/step - loss: 25.5884 - accuracy: 0.1818 - val_loss: 13.6068 - val_accuracy: 0.0000e+00\n",
      "Epoch 16/50\n",
      "1/1 [==============================] - 0s 36ms/step - loss: 38.2299 - accuracy: 0.0000e+00 - val_loss: 11.6458 - val_accuracy: 0.0000e+00\n",
      "Epoch 17/50\n",
      "1/1 [==============================] - 0s 35ms/step - loss: 27.4614 - accuracy: 0.0000e+00 - val_loss: 9.9611 - val_accuracy: 0.0000e+00\n",
      "Epoch 18/50\n",
      "1/1 [==============================] - 0s 30ms/step - loss: 38.6516 - accuracy: 0.0909 - val_loss: 8.6230 - val_accuracy: 0.0000e+00\n",
      "Epoch 19/50\n",
      "1/1 [==============================] - 0s 29ms/step - loss: 35.9981 - accuracy: 0.0909 - val_loss: 7.7089 - val_accuracy: 0.0000e+00\n",
      "Epoch 20/50\n",
      "1/1 [==============================] - 0s 28ms/step - loss: 22.7685 - accuracy: 0.0909 - val_loss: 7.1024 - val_accuracy: 0.0000e+00\n",
      "Epoch 21/50\n",
      "1/1 [==============================] - 0s 32ms/step - loss: 41.0792 - accuracy: 0.0000e+00 - val_loss: 6.7166 - val_accuracy: 0.0000e+00\n",
      "Epoch 22/50\n",
      "1/1 [==============================] - 0s 34ms/step - loss: 41.7618 - accuracy: 0.1818 - val_loss: 6.3006 - val_accuracy: 0.0000e+00\n",
      "Epoch 23/50\n",
      "1/1 [==============================] - 0s 35ms/step - loss: 27.4423 - accuracy: 0.0909 - val_loss: 5.9002 - val_accuracy: 0.0000e+00\n",
      "Epoch 24/50\n",
      "1/1 [==============================] - 0s 36ms/step - loss: 32.8603 - accuracy: 0.1818 - val_loss: 5.6159 - val_accuracy: 0.0000e+00\n",
      "Epoch 25/50\n",
      "1/1 [==============================] - 0s 29ms/step - loss: 22.8058 - accuracy: 0.0909 - val_loss: 5.4084 - val_accuracy: 0.0000e+00\n",
      "Epoch 26/50\n",
      "1/1 [==============================] - 0s 37ms/step - loss: 27.8828 - accuracy: 0.1818 - val_loss: 5.1307 - val_accuracy: 0.0000e+00\n",
      "Epoch 27/50\n",
      "1/1 [==============================] - 0s 31ms/step - loss: 19.0190 - accuracy: 0.5455 - val_loss: 4.9352 - val_accuracy: 0.0000e+00\n",
      "Epoch 28/50\n",
      "1/1 [==============================] - 0s 30ms/step - loss: 27.6374 - accuracy: 0.1818 - val_loss: 4.8248 - val_accuracy: 0.0000e+00\n",
      "Epoch 29/50\n",
      "1/1 [==============================] - 0s 29ms/step - loss: 30.1477 - accuracy: 0.0000e+00 - val_loss: 4.7022 - val_accuracy: 0.0000e+00\n",
      "Epoch 30/50\n",
      "1/1 [==============================] - 0s 28ms/step - loss: 21.2776 - accuracy: 0.2727 - val_loss: 4.5183 - val_accuracy: 0.0000e+00\n",
      "Epoch 31/50\n",
      "1/1 [==============================] - 0s 29ms/step - loss: 22.0855 - accuracy: 0.0909 - val_loss: 4.3917 - val_accuracy: 0.0000e+00\n",
      "Epoch 32/50\n",
      "1/1 [==============================] - 0s 31ms/step - loss: 26.9097 - accuracy: 0.0909 - val_loss: 4.1894 - val_accuracy: 0.0000e+00\n",
      "Epoch 33/50\n",
      "1/1 [==============================] - 0s 32ms/step - loss: 21.5810 - accuracy: 0.1818 - val_loss: 3.9241 - val_accuracy: 0.0000e+00\n",
      "Epoch 34/50\n",
      "1/1 [==============================] - 0s 32ms/step - loss: 40.3827 - accuracy: 0.2727 - val_loss: 3.6704 - val_accuracy: 0.0000e+00\n",
      "Epoch 35/50\n",
      "1/1 [==============================] - 0s 33ms/step - loss: 19.0234 - accuracy: 0.2727 - val_loss: 3.3564 - val_accuracy: 0.0000e+00\n",
      "Epoch 36/50\n",
      "1/1 [==============================] - 0s 31ms/step - loss: 13.3037 - accuracy: 0.1818 - val_loss: 3.0682 - val_accuracy: 0.0000e+00\n",
      "Epoch 37/50\n",
      "1/1 [==============================] - 0s 30ms/step - loss: 23.2084 - accuracy: 0.0909 - val_loss: 2.8386 - val_accuracy: 0.0000e+00\n",
      "Epoch 38/50\n",
      "1/1 [==============================] - 0s 26ms/step - loss: 12.9640 - accuracy: 0.3636 - val_loss: 2.6716 - val_accuracy: 0.0000e+00\n",
      "Epoch 39/50\n",
      "1/1 [==============================] - 0s 26ms/step - loss: 8.8876 - accuracy: 0.2727 - val_loss: 2.5484 - val_accuracy: 0.0000e+00\n",
      "Epoch 40/50\n",
      "1/1 [==============================] - 0s 24ms/step - loss: 15.6410 - accuracy: 0.0909 - val_loss: 2.5223 - val_accuracy: 0.0000e+00\n",
      "Epoch 41/50\n",
      "1/1 [==============================] - 0s 25ms/step - loss: 28.0844 - accuracy: 0.0909 - val_loss: 2.4313 - val_accuracy: 0.0000e+00\n",
      "Epoch 42/50\n",
      "1/1 [==============================] - 0s 23ms/step - loss: 14.4529 - accuracy: 0.1818 - val_loss: 2.3675 - val_accuracy: 0.0000e+00\n",
      "Epoch 43/50\n",
      "1/1 [==============================] - 0s 25ms/step - loss: 16.3646 - accuracy: 0.0909 - val_loss: 2.2470 - val_accuracy: 0.0000e+00\n",
      "Epoch 44/50\n",
      "1/1 [==============================] - 0s 25ms/step - loss: 13.0826 - accuracy: 0.1818 - val_loss: 2.1746 - val_accuracy: 0.0000e+00\n",
      "Epoch 45/50\n",
      "1/1 [==============================] - 0s 25ms/step - loss: 19.9240 - accuracy: 0.1818 - val_loss: 2.1603 - val_accuracy: 0.0000e+00\n",
      "Epoch 46/50\n",
      "1/1 [==============================] - 0s 26ms/step - loss: 10.8375 - accuracy: 0.2727 - val_loss: 2.1630 - val_accuracy: 0.0000e+00\n",
      "Epoch 47/50\n",
      "1/1 [==============================] - 0s 24ms/step - loss: 14.3410 - accuracy: 0.1818 - val_loss: 2.2010 - val_accuracy: 0.0000e+00\n",
      "Epoch 48/50\n",
      "1/1 [==============================] - 0s 30ms/step - loss: 23.3501 - accuracy: 0.0909 - val_loss: 2.2227 - val_accuracy: 0.0000e+00\n",
      "Epoch 49/50\n",
      "1/1 [==============================] - 0s 24ms/step - loss: 16.9841 - accuracy: 0.0909 - val_loss: 2.2506 - val_accuracy: 0.0000e+00\n",
      "Epoch 50/50\n",
      "1/1 [==============================] - 0s 25ms/step - loss: 22.5910 - accuracy: 0.1818 - val_loss: 2.3287 - val_accuracy: 0.0000e+00\n"
     ]
    }
   ],
   "source": [
    "history1 = model1.fit(X_train, y_train, \n",
    "                    validation_split=0.2, \n",
    "                    epochs=50, \n",
    "                    batch_size=32,\n",
    "                    verbose=1)\n"
   ]
  },
  {
   "cell_type": "code",
   "execution_count": 226,
   "id": "1fdb1187",
   "metadata": {},
   "outputs": [
    {
     "data": {
      "application/vnd.plotly.v1+json": {
       "config": {
        "plotlyServerURL": "https://plot.ly"
       },
       "data": [
        {
         "hovertemplate": "variable=loss<br>Epoch=%{x}<br>Loss=%{y}<extra></extra>",
         "legendgroup": "loss",
         "line": {
          "color": "#636efa",
          "dash": "solid"
         },
         "marker": {
          "symbol": "circle"
         },
         "mode": "lines",
         "name": "loss",
         "orientation": "v",
         "showlegend": true,
         "type": "scatter",
         "x": [
          0,
          1,
          2,
          3,
          4,
          5,
          6,
          7,
          8,
          9,
          10,
          11,
          12,
          13,
          14,
          15,
          16,
          17,
          18,
          19,
          20,
          21,
          22,
          23,
          24,
          25,
          26,
          27,
          28,
          29,
          30,
          31,
          32,
          33,
          34,
          35,
          36,
          37,
          38,
          39,
          40,
          41,
          42,
          43,
          44,
          45,
          46,
          47,
          48,
          49
         ],
         "xaxis": "x",
         "y": [
          71.38831329345703,
          56.923274993896484,
          63.80666732788086,
          37.93455505371094,
          60.06803894042969,
          63.436824798583984,
          41.89784622192383,
          40.65903854370117,
          34.55436706542969,
          51.380123138427734,
          50.385337829589844,
          36.950439453125,
          38.34181594848633,
          36.38546371459961,
          25.588417053222656,
          38.22987365722656,
          27.46142578125,
          38.651634216308594,
          35.99810028076172,
          22.76850128173828,
          41.07919692993164,
          41.7618408203125,
          27.442285537719727,
          32.860313415527344,
          22.805828094482422,
          27.882753372192383,
          19.01897621154785,
          27.637357711791992,
          30.147655487060547,
          21.277570724487305,
          22.085472106933594,
          26.909669876098633,
          21.580957412719727,
          40.38267135620117,
          19.023418426513672,
          13.30374526977539,
          23.20836639404297,
          12.963990211486816,
          8.887641906738281,
          15.64096450805664,
          28.08441734313965,
          14.452865600585938,
          16.36458396911621,
          13.082579612731934,
          19.92401695251465,
          10.837491989135742,
          14.340970039367676,
          23.350130081176758,
          16.98409652709961,
          22.591049194335938
         ],
         "yaxis": "y"
        },
        {
         "hovertemplate": "variable=val_loss<br>Epoch=%{x}<br>Loss=%{y}<extra></extra>",
         "legendgroup": "val_loss",
         "line": {
          "color": "#EF553B",
          "dash": "solid"
         },
         "marker": {
          "symbol": "circle"
         },
         "mode": "lines",
         "name": "val_loss",
         "orientation": "v",
         "showlegend": true,
         "type": "scatter",
         "x": [
          0,
          1,
          2,
          3,
          4,
          5,
          6,
          7,
          8,
          9,
          10,
          11,
          12,
          13,
          14,
          15,
          16,
          17,
          18,
          19,
          20,
          21,
          22,
          23,
          24,
          25,
          26,
          27,
          28,
          29,
          30,
          31,
          32,
          33,
          34,
          35,
          36,
          37,
          38,
          39,
          40,
          41,
          42,
          43,
          44,
          45,
          46,
          47,
          48,
          49
         ],
         "xaxis": "x",
         "y": [
          50.64937210083008,
          47.36381912231445,
          43.9089241027832,
          40.97746658325195,
          38.19176483154297,
          35.18986129760742,
          32.42079162597656,
          29.750391006469727,
          27.31158447265625,
          24.88203239440918,
          22.40624237060547,
          20.068347930908203,
          17.70734214782715,
          15.598670959472656,
          13.606846809387207,
          11.645790100097656,
          9.961141586303711,
          8.6229887008667,
          7.70894193649292,
          7.102363109588623,
          6.716642379760742,
          6.300611972808838,
          5.900247097015381,
          5.615941524505615,
          5.408438205718994,
          5.1307454109191895,
          4.935225486755371,
          4.824801445007324,
          4.702213764190674,
          4.518343925476074,
          4.391714572906494,
          4.189417839050293,
          3.9241292476654053,
          3.6704330444335938,
          3.3563950061798096,
          3.068150520324707,
          2.8386013507843018,
          2.671552896499634,
          2.548391819000244,
          2.522319793701172,
          2.431283473968506,
          2.367527484893799,
          2.2469940185546875,
          2.174623966217041,
          2.1603097915649414,
          2.1629748344421387,
          2.2010116577148438,
          2.222684621810913,
          2.250624179840088,
          2.3286988735198975
         ],
         "yaxis": "y"
        }
       ],
       "layout": {
        "legend": {
         "title": {
          "text": "variable"
         },
         "tracegroupgap": 0
        },
        "template": {
         "data": {
          "bar": [
           {
            "error_x": {
             "color": "#2a3f5f"
            },
            "error_y": {
             "color": "#2a3f5f"
            },
            "marker": {
             "line": {
              "color": "#E5ECF6",
              "width": 0.5
             },
             "pattern": {
              "fillmode": "overlay",
              "size": 10,
              "solidity": 0.2
             }
            },
            "type": "bar"
           }
          ],
          "barpolar": [
           {
            "marker": {
             "line": {
              "color": "#E5ECF6",
              "width": 0.5
             },
             "pattern": {
              "fillmode": "overlay",
              "size": 10,
              "solidity": 0.2
             }
            },
            "type": "barpolar"
           }
          ],
          "carpet": [
           {
            "aaxis": {
             "endlinecolor": "#2a3f5f",
             "gridcolor": "white",
             "linecolor": "white",
             "minorgridcolor": "white",
             "startlinecolor": "#2a3f5f"
            },
            "baxis": {
             "endlinecolor": "#2a3f5f",
             "gridcolor": "white",
             "linecolor": "white",
             "minorgridcolor": "white",
             "startlinecolor": "#2a3f5f"
            },
            "type": "carpet"
           }
          ],
          "choropleth": [
           {
            "colorbar": {
             "outlinewidth": 0,
             "ticks": ""
            },
            "type": "choropleth"
           }
          ],
          "contour": [
           {
            "colorbar": {
             "outlinewidth": 0,
             "ticks": ""
            },
            "colorscale": [
             [
              0,
              "#0d0887"
             ],
             [
              0.1111111111111111,
              "#46039f"
             ],
             [
              0.2222222222222222,
              "#7201a8"
             ],
             [
              0.3333333333333333,
              "#9c179e"
             ],
             [
              0.4444444444444444,
              "#bd3786"
             ],
             [
              0.5555555555555556,
              "#d8576b"
             ],
             [
              0.6666666666666666,
              "#ed7953"
             ],
             [
              0.7777777777777778,
              "#fb9f3a"
             ],
             [
              0.8888888888888888,
              "#fdca26"
             ],
             [
              1,
              "#f0f921"
             ]
            ],
            "type": "contour"
           }
          ],
          "contourcarpet": [
           {
            "colorbar": {
             "outlinewidth": 0,
             "ticks": ""
            },
            "type": "contourcarpet"
           }
          ],
          "heatmap": [
           {
            "colorbar": {
             "outlinewidth": 0,
             "ticks": ""
            },
            "colorscale": [
             [
              0,
              "#0d0887"
             ],
             [
              0.1111111111111111,
              "#46039f"
             ],
             [
              0.2222222222222222,
              "#7201a8"
             ],
             [
              0.3333333333333333,
              "#9c179e"
             ],
             [
              0.4444444444444444,
              "#bd3786"
             ],
             [
              0.5555555555555556,
              "#d8576b"
             ],
             [
              0.6666666666666666,
              "#ed7953"
             ],
             [
              0.7777777777777778,
              "#fb9f3a"
             ],
             [
              0.8888888888888888,
              "#fdca26"
             ],
             [
              1,
              "#f0f921"
             ]
            ],
            "type": "heatmap"
           }
          ],
          "heatmapgl": [
           {
            "colorbar": {
             "outlinewidth": 0,
             "ticks": ""
            },
            "colorscale": [
             [
              0,
              "#0d0887"
             ],
             [
              0.1111111111111111,
              "#46039f"
             ],
             [
              0.2222222222222222,
              "#7201a8"
             ],
             [
              0.3333333333333333,
              "#9c179e"
             ],
             [
              0.4444444444444444,
              "#bd3786"
             ],
             [
              0.5555555555555556,
              "#d8576b"
             ],
             [
              0.6666666666666666,
              "#ed7953"
             ],
             [
              0.7777777777777778,
              "#fb9f3a"
             ],
             [
              0.8888888888888888,
              "#fdca26"
             ],
             [
              1,
              "#f0f921"
             ]
            ],
            "type": "heatmapgl"
           }
          ],
          "histogram": [
           {
            "marker": {
             "pattern": {
              "fillmode": "overlay",
              "size": 10,
              "solidity": 0.2
             }
            },
            "type": "histogram"
           }
          ],
          "histogram2d": [
           {
            "colorbar": {
             "outlinewidth": 0,
             "ticks": ""
            },
            "colorscale": [
             [
              0,
              "#0d0887"
             ],
             [
              0.1111111111111111,
              "#46039f"
             ],
             [
              0.2222222222222222,
              "#7201a8"
             ],
             [
              0.3333333333333333,
              "#9c179e"
             ],
             [
              0.4444444444444444,
              "#bd3786"
             ],
             [
              0.5555555555555556,
              "#d8576b"
             ],
             [
              0.6666666666666666,
              "#ed7953"
             ],
             [
              0.7777777777777778,
              "#fb9f3a"
             ],
             [
              0.8888888888888888,
              "#fdca26"
             ],
             [
              1,
              "#f0f921"
             ]
            ],
            "type": "histogram2d"
           }
          ],
          "histogram2dcontour": [
           {
            "colorbar": {
             "outlinewidth": 0,
             "ticks": ""
            },
            "colorscale": [
             [
              0,
              "#0d0887"
             ],
             [
              0.1111111111111111,
              "#46039f"
             ],
             [
              0.2222222222222222,
              "#7201a8"
             ],
             [
              0.3333333333333333,
              "#9c179e"
             ],
             [
              0.4444444444444444,
              "#bd3786"
             ],
             [
              0.5555555555555556,
              "#d8576b"
             ],
             [
              0.6666666666666666,
              "#ed7953"
             ],
             [
              0.7777777777777778,
              "#fb9f3a"
             ],
             [
              0.8888888888888888,
              "#fdca26"
             ],
             [
              1,
              "#f0f921"
             ]
            ],
            "type": "histogram2dcontour"
           }
          ],
          "mesh3d": [
           {
            "colorbar": {
             "outlinewidth": 0,
             "ticks": ""
            },
            "type": "mesh3d"
           }
          ],
          "parcoords": [
           {
            "line": {
             "colorbar": {
              "outlinewidth": 0,
              "ticks": ""
             }
            },
            "type": "parcoords"
           }
          ],
          "pie": [
           {
            "automargin": true,
            "type": "pie"
           }
          ],
          "scatter": [
           {
            "fillpattern": {
             "fillmode": "overlay",
             "size": 10,
             "solidity": 0.2
            },
            "type": "scatter"
           }
          ],
          "scatter3d": [
           {
            "line": {
             "colorbar": {
              "outlinewidth": 0,
              "ticks": ""
             }
            },
            "marker": {
             "colorbar": {
              "outlinewidth": 0,
              "ticks": ""
             }
            },
            "type": "scatter3d"
           }
          ],
          "scattercarpet": [
           {
            "marker": {
             "colorbar": {
              "outlinewidth": 0,
              "ticks": ""
             }
            },
            "type": "scattercarpet"
           }
          ],
          "scattergeo": [
           {
            "marker": {
             "colorbar": {
              "outlinewidth": 0,
              "ticks": ""
             }
            },
            "type": "scattergeo"
           }
          ],
          "scattergl": [
           {
            "marker": {
             "colorbar": {
              "outlinewidth": 0,
              "ticks": ""
             }
            },
            "type": "scattergl"
           }
          ],
          "scattermapbox": [
           {
            "marker": {
             "colorbar": {
              "outlinewidth": 0,
              "ticks": ""
             }
            },
            "type": "scattermapbox"
           }
          ],
          "scatterpolar": [
           {
            "marker": {
             "colorbar": {
              "outlinewidth": 0,
              "ticks": ""
             }
            },
            "type": "scatterpolar"
           }
          ],
          "scatterpolargl": [
           {
            "marker": {
             "colorbar": {
              "outlinewidth": 0,
              "ticks": ""
             }
            },
            "type": "scatterpolargl"
           }
          ],
          "scatterternary": [
           {
            "marker": {
             "colorbar": {
              "outlinewidth": 0,
              "ticks": ""
             }
            },
            "type": "scatterternary"
           }
          ],
          "surface": [
           {
            "colorbar": {
             "outlinewidth": 0,
             "ticks": ""
            },
            "colorscale": [
             [
              0,
              "#0d0887"
             ],
             [
              0.1111111111111111,
              "#46039f"
             ],
             [
              0.2222222222222222,
              "#7201a8"
             ],
             [
              0.3333333333333333,
              "#9c179e"
             ],
             [
              0.4444444444444444,
              "#bd3786"
             ],
             [
              0.5555555555555556,
              "#d8576b"
             ],
             [
              0.6666666666666666,
              "#ed7953"
             ],
             [
              0.7777777777777778,
              "#fb9f3a"
             ],
             [
              0.8888888888888888,
              "#fdca26"
             ],
             [
              1,
              "#f0f921"
             ]
            ],
            "type": "surface"
           }
          ],
          "table": [
           {
            "cells": {
             "fill": {
              "color": "#EBF0F8"
             },
             "line": {
              "color": "white"
             }
            },
            "header": {
             "fill": {
              "color": "#C8D4E3"
             },
             "line": {
              "color": "white"
             }
            },
            "type": "table"
           }
          ]
         },
         "layout": {
          "annotationdefaults": {
           "arrowcolor": "#2a3f5f",
           "arrowhead": 0,
           "arrowwidth": 1
          },
          "autotypenumbers": "strict",
          "coloraxis": {
           "colorbar": {
            "outlinewidth": 0,
            "ticks": ""
           }
          },
          "colorscale": {
           "diverging": [
            [
             0,
             "#8e0152"
            ],
            [
             0.1,
             "#c51b7d"
            ],
            [
             0.2,
             "#de77ae"
            ],
            [
             0.3,
             "#f1b6da"
            ],
            [
             0.4,
             "#fde0ef"
            ],
            [
             0.5,
             "#f7f7f7"
            ],
            [
             0.6,
             "#e6f5d0"
            ],
            [
             0.7,
             "#b8e186"
            ],
            [
             0.8,
             "#7fbc41"
            ],
            [
             0.9,
             "#4d9221"
            ],
            [
             1,
             "#276419"
            ]
           ],
           "sequential": [
            [
             0,
             "#0d0887"
            ],
            [
             0.1111111111111111,
             "#46039f"
            ],
            [
             0.2222222222222222,
             "#7201a8"
            ],
            [
             0.3333333333333333,
             "#9c179e"
            ],
            [
             0.4444444444444444,
             "#bd3786"
            ],
            [
             0.5555555555555556,
             "#d8576b"
            ],
            [
             0.6666666666666666,
             "#ed7953"
            ],
            [
             0.7777777777777778,
             "#fb9f3a"
            ],
            [
             0.8888888888888888,
             "#fdca26"
            ],
            [
             1,
             "#f0f921"
            ]
           ],
           "sequentialminus": [
            [
             0,
             "#0d0887"
            ],
            [
             0.1111111111111111,
             "#46039f"
            ],
            [
             0.2222222222222222,
             "#7201a8"
            ],
            [
             0.3333333333333333,
             "#9c179e"
            ],
            [
             0.4444444444444444,
             "#bd3786"
            ],
            [
             0.5555555555555556,
             "#d8576b"
            ],
            [
             0.6666666666666666,
             "#ed7953"
            ],
            [
             0.7777777777777778,
             "#fb9f3a"
            ],
            [
             0.8888888888888888,
             "#fdca26"
            ],
            [
             1,
             "#f0f921"
            ]
           ]
          },
          "colorway": [
           "#636efa",
           "#EF553B",
           "#00cc96",
           "#ab63fa",
           "#FFA15A",
           "#19d3f3",
           "#FF6692",
           "#B6E880",
           "#FF97FF",
           "#FECB52"
          ],
          "font": {
           "color": "#2a3f5f"
          },
          "geo": {
           "bgcolor": "white",
           "lakecolor": "white",
           "landcolor": "#E5ECF6",
           "showlakes": true,
           "showland": true,
           "subunitcolor": "white"
          },
          "hoverlabel": {
           "align": "left"
          },
          "hovermode": "closest",
          "mapbox": {
           "style": "light"
          },
          "paper_bgcolor": "white",
          "plot_bgcolor": "#E5ECF6",
          "polar": {
           "angularaxis": {
            "gridcolor": "white",
            "linecolor": "white",
            "ticks": ""
           },
           "bgcolor": "#E5ECF6",
           "radialaxis": {
            "gridcolor": "white",
            "linecolor": "white",
            "ticks": ""
           }
          },
          "scene": {
           "xaxis": {
            "backgroundcolor": "#E5ECF6",
            "gridcolor": "white",
            "gridwidth": 2,
            "linecolor": "white",
            "showbackground": true,
            "ticks": "",
            "zerolinecolor": "white"
           },
           "yaxis": {
            "backgroundcolor": "#E5ECF6",
            "gridcolor": "white",
            "gridwidth": 2,
            "linecolor": "white",
            "showbackground": true,
            "ticks": "",
            "zerolinecolor": "white"
           },
           "zaxis": {
            "backgroundcolor": "#E5ECF6",
            "gridcolor": "white",
            "gridwidth": 2,
            "linecolor": "white",
            "showbackground": true,
            "ticks": "",
            "zerolinecolor": "white"
           }
          },
          "shapedefaults": {
           "line": {
            "color": "#2a3f5f"
           }
          },
          "ternary": {
           "aaxis": {
            "gridcolor": "white",
            "linecolor": "white",
            "ticks": ""
           },
           "baxis": {
            "gridcolor": "white",
            "linecolor": "white",
            "ticks": ""
           },
           "bgcolor": "#E5ECF6",
           "caxis": {
            "gridcolor": "white",
            "linecolor": "white",
            "ticks": ""
           }
          },
          "title": {
           "x": 0.05
          },
          "xaxis": {
           "automargin": true,
           "gridcolor": "white",
           "linecolor": "white",
           "ticks": "",
           "title": {
            "standoff": 15
           },
           "zerolinecolor": "white",
           "zerolinewidth": 2
          },
          "yaxis": {
           "automargin": true,
           "gridcolor": "white",
           "linecolor": "white",
           "ticks": "",
           "title": {
            "standoff": 15
           },
           "zerolinecolor": "white",
           "zerolinewidth": 2
          }
         }
        },
        "title": {
         "text": "Training and Validation Loss Over Time"
        },
        "xaxis": {
         "anchor": "y",
         "domain": [
          0,
          1
         ],
         "title": {
          "text": "Epoch"
         }
        },
        "yaxis": {
         "anchor": "x",
         "domain": [
          0,
          1
         ],
         "title": {
          "text": "Loss"
         }
        }
       }
      },
      "text/html": [
       "<div>                            <div id=\"0b89f476-2d64-4279-a2c9-c00cb678aed4\" class=\"plotly-graph-div\" style=\"height:525px; width:100%;\"></div>            <script type=\"text/javascript\">                require([\"plotly\"], function(Plotly) {                    window.PLOTLYENV=window.PLOTLYENV || {};                                    if (document.getElementById(\"0b89f476-2d64-4279-a2c9-c00cb678aed4\")) {                    Plotly.newPlot(                        \"0b89f476-2d64-4279-a2c9-c00cb678aed4\",                        [{\"hovertemplate\":\"variable=loss<br>Epoch=%{x}<br>Loss=%{y}<extra></extra>\",\"legendgroup\":\"loss\",\"line\":{\"color\":\"#636efa\",\"dash\":\"solid\"},\"marker\":{\"symbol\":\"circle\"},\"mode\":\"lines\",\"name\":\"loss\",\"orientation\":\"v\",\"showlegend\":true,\"x\":[0,1,2,3,4,5,6,7,8,9,10,11,12,13,14,15,16,17,18,19,20,21,22,23,24,25,26,27,28,29,30,31,32,33,34,35,36,37,38,39,40,41,42,43,44,45,46,47,48,49],\"xaxis\":\"x\",\"y\":[71.38831329345703,56.923274993896484,63.80666732788086,37.93455505371094,60.06803894042969,63.436824798583984,41.89784622192383,40.65903854370117,34.55436706542969,51.380123138427734,50.385337829589844,36.950439453125,38.34181594848633,36.38546371459961,25.588417053222656,38.22987365722656,27.46142578125,38.651634216308594,35.99810028076172,22.76850128173828,41.07919692993164,41.7618408203125,27.442285537719727,32.860313415527344,22.805828094482422,27.882753372192383,19.01897621154785,27.637357711791992,30.147655487060547,21.277570724487305,22.085472106933594,26.909669876098633,21.580957412719727,40.38267135620117,19.023418426513672,13.30374526977539,23.20836639404297,12.963990211486816,8.887641906738281,15.64096450805664,28.08441734313965,14.452865600585938,16.36458396911621,13.082579612731934,19.92401695251465,10.837491989135742,14.340970039367676,23.350130081176758,16.98409652709961,22.591049194335938],\"yaxis\":\"y\",\"type\":\"scatter\"},{\"hovertemplate\":\"variable=val_loss<br>Epoch=%{x}<br>Loss=%{y}<extra></extra>\",\"legendgroup\":\"val_loss\",\"line\":{\"color\":\"#EF553B\",\"dash\":\"solid\"},\"marker\":{\"symbol\":\"circle\"},\"mode\":\"lines\",\"name\":\"val_loss\",\"orientation\":\"v\",\"showlegend\":true,\"x\":[0,1,2,3,4,5,6,7,8,9,10,11,12,13,14,15,16,17,18,19,20,21,22,23,24,25,26,27,28,29,30,31,32,33,34,35,36,37,38,39,40,41,42,43,44,45,46,47,48,49],\"xaxis\":\"x\",\"y\":[50.64937210083008,47.36381912231445,43.9089241027832,40.97746658325195,38.19176483154297,35.18986129760742,32.42079162597656,29.750391006469727,27.31158447265625,24.88203239440918,22.40624237060547,20.068347930908203,17.70734214782715,15.598670959472656,13.606846809387207,11.645790100097656,9.961141586303711,8.6229887008667,7.70894193649292,7.102363109588623,6.716642379760742,6.300611972808838,5.900247097015381,5.615941524505615,5.408438205718994,5.1307454109191895,4.935225486755371,4.824801445007324,4.702213764190674,4.518343925476074,4.391714572906494,4.189417839050293,3.9241292476654053,3.6704330444335938,3.3563950061798096,3.068150520324707,2.8386013507843018,2.671552896499634,2.548391819000244,2.522319793701172,2.431283473968506,2.367527484893799,2.2469940185546875,2.174623966217041,2.1603097915649414,2.1629748344421387,2.2010116577148438,2.222684621810913,2.250624179840088,2.3286988735198975],\"yaxis\":\"y\",\"type\":\"scatter\"}],                        {\"template\":{\"data\":{\"histogram2dcontour\":[{\"type\":\"histogram2dcontour\",\"colorbar\":{\"outlinewidth\":0,\"ticks\":\"\"},\"colorscale\":[[0.0,\"#0d0887\"],[0.1111111111111111,\"#46039f\"],[0.2222222222222222,\"#7201a8\"],[0.3333333333333333,\"#9c179e\"],[0.4444444444444444,\"#bd3786\"],[0.5555555555555556,\"#d8576b\"],[0.6666666666666666,\"#ed7953\"],[0.7777777777777778,\"#fb9f3a\"],[0.8888888888888888,\"#fdca26\"],[1.0,\"#f0f921\"]]}],\"choropleth\":[{\"type\":\"choropleth\",\"colorbar\":{\"outlinewidth\":0,\"ticks\":\"\"}}],\"histogram2d\":[{\"type\":\"histogram2d\",\"colorbar\":{\"outlinewidth\":0,\"ticks\":\"\"},\"colorscale\":[[0.0,\"#0d0887\"],[0.1111111111111111,\"#46039f\"],[0.2222222222222222,\"#7201a8\"],[0.3333333333333333,\"#9c179e\"],[0.4444444444444444,\"#bd3786\"],[0.5555555555555556,\"#d8576b\"],[0.6666666666666666,\"#ed7953\"],[0.7777777777777778,\"#fb9f3a\"],[0.8888888888888888,\"#fdca26\"],[1.0,\"#f0f921\"]]}],\"heatmap\":[{\"type\":\"heatmap\",\"colorbar\":{\"outlinewidth\":0,\"ticks\":\"\"},\"colorscale\":[[0.0,\"#0d0887\"],[0.1111111111111111,\"#46039f\"],[0.2222222222222222,\"#7201a8\"],[0.3333333333333333,\"#9c179e\"],[0.4444444444444444,\"#bd3786\"],[0.5555555555555556,\"#d8576b\"],[0.6666666666666666,\"#ed7953\"],[0.7777777777777778,\"#fb9f3a\"],[0.8888888888888888,\"#fdca26\"],[1.0,\"#f0f921\"]]}],\"heatmapgl\":[{\"type\":\"heatmapgl\",\"colorbar\":{\"outlinewidth\":0,\"ticks\":\"\"},\"colorscale\":[[0.0,\"#0d0887\"],[0.1111111111111111,\"#46039f\"],[0.2222222222222222,\"#7201a8\"],[0.3333333333333333,\"#9c179e\"],[0.4444444444444444,\"#bd3786\"],[0.5555555555555556,\"#d8576b\"],[0.6666666666666666,\"#ed7953\"],[0.7777777777777778,\"#fb9f3a\"],[0.8888888888888888,\"#fdca26\"],[1.0,\"#f0f921\"]]}],\"contourcarpet\":[{\"type\":\"contourcarpet\",\"colorbar\":{\"outlinewidth\":0,\"ticks\":\"\"}}],\"contour\":[{\"type\":\"contour\",\"colorbar\":{\"outlinewidth\":0,\"ticks\":\"\"},\"colorscale\":[[0.0,\"#0d0887\"],[0.1111111111111111,\"#46039f\"],[0.2222222222222222,\"#7201a8\"],[0.3333333333333333,\"#9c179e\"],[0.4444444444444444,\"#bd3786\"],[0.5555555555555556,\"#d8576b\"],[0.6666666666666666,\"#ed7953\"],[0.7777777777777778,\"#fb9f3a\"],[0.8888888888888888,\"#fdca26\"],[1.0,\"#f0f921\"]]}],\"surface\":[{\"type\":\"surface\",\"colorbar\":{\"outlinewidth\":0,\"ticks\":\"\"},\"colorscale\":[[0.0,\"#0d0887\"],[0.1111111111111111,\"#46039f\"],[0.2222222222222222,\"#7201a8\"],[0.3333333333333333,\"#9c179e\"],[0.4444444444444444,\"#bd3786\"],[0.5555555555555556,\"#d8576b\"],[0.6666666666666666,\"#ed7953\"],[0.7777777777777778,\"#fb9f3a\"],[0.8888888888888888,\"#fdca26\"],[1.0,\"#f0f921\"]]}],\"mesh3d\":[{\"type\":\"mesh3d\",\"colorbar\":{\"outlinewidth\":0,\"ticks\":\"\"}}],\"scatter\":[{\"fillpattern\":{\"fillmode\":\"overlay\",\"size\":10,\"solidity\":0.2},\"type\":\"scatter\"}],\"parcoords\":[{\"type\":\"parcoords\",\"line\":{\"colorbar\":{\"outlinewidth\":0,\"ticks\":\"\"}}}],\"scatterpolargl\":[{\"type\":\"scatterpolargl\",\"marker\":{\"colorbar\":{\"outlinewidth\":0,\"ticks\":\"\"}}}],\"bar\":[{\"error_x\":{\"color\":\"#2a3f5f\"},\"error_y\":{\"color\":\"#2a3f5f\"},\"marker\":{\"line\":{\"color\":\"#E5ECF6\",\"width\":0.5},\"pattern\":{\"fillmode\":\"overlay\",\"size\":10,\"solidity\":0.2}},\"type\":\"bar\"}],\"scattergeo\":[{\"type\":\"scattergeo\",\"marker\":{\"colorbar\":{\"outlinewidth\":0,\"ticks\":\"\"}}}],\"scatterpolar\":[{\"type\":\"scatterpolar\",\"marker\":{\"colorbar\":{\"outlinewidth\":0,\"ticks\":\"\"}}}],\"histogram\":[{\"marker\":{\"pattern\":{\"fillmode\":\"overlay\",\"size\":10,\"solidity\":0.2}},\"type\":\"histogram\"}],\"scattergl\":[{\"type\":\"scattergl\",\"marker\":{\"colorbar\":{\"outlinewidth\":0,\"ticks\":\"\"}}}],\"scatter3d\":[{\"type\":\"scatter3d\",\"line\":{\"colorbar\":{\"outlinewidth\":0,\"ticks\":\"\"}},\"marker\":{\"colorbar\":{\"outlinewidth\":0,\"ticks\":\"\"}}}],\"scattermapbox\":[{\"type\":\"scattermapbox\",\"marker\":{\"colorbar\":{\"outlinewidth\":0,\"ticks\":\"\"}}}],\"scatterternary\":[{\"type\":\"scatterternary\",\"marker\":{\"colorbar\":{\"outlinewidth\":0,\"ticks\":\"\"}}}],\"scattercarpet\":[{\"type\":\"scattercarpet\",\"marker\":{\"colorbar\":{\"outlinewidth\":0,\"ticks\":\"\"}}}],\"carpet\":[{\"aaxis\":{\"endlinecolor\":\"#2a3f5f\",\"gridcolor\":\"white\",\"linecolor\":\"white\",\"minorgridcolor\":\"white\",\"startlinecolor\":\"#2a3f5f\"},\"baxis\":{\"endlinecolor\":\"#2a3f5f\",\"gridcolor\":\"white\",\"linecolor\":\"white\",\"minorgridcolor\":\"white\",\"startlinecolor\":\"#2a3f5f\"},\"type\":\"carpet\"}],\"table\":[{\"cells\":{\"fill\":{\"color\":\"#EBF0F8\"},\"line\":{\"color\":\"white\"}},\"header\":{\"fill\":{\"color\":\"#C8D4E3\"},\"line\":{\"color\":\"white\"}},\"type\":\"table\"}],\"barpolar\":[{\"marker\":{\"line\":{\"color\":\"#E5ECF6\",\"width\":0.5},\"pattern\":{\"fillmode\":\"overlay\",\"size\":10,\"solidity\":0.2}},\"type\":\"barpolar\"}],\"pie\":[{\"automargin\":true,\"type\":\"pie\"}]},\"layout\":{\"autotypenumbers\":\"strict\",\"colorway\":[\"#636efa\",\"#EF553B\",\"#00cc96\",\"#ab63fa\",\"#FFA15A\",\"#19d3f3\",\"#FF6692\",\"#B6E880\",\"#FF97FF\",\"#FECB52\"],\"font\":{\"color\":\"#2a3f5f\"},\"hovermode\":\"closest\",\"hoverlabel\":{\"align\":\"left\"},\"paper_bgcolor\":\"white\",\"plot_bgcolor\":\"#E5ECF6\",\"polar\":{\"bgcolor\":\"#E5ECF6\",\"angularaxis\":{\"gridcolor\":\"white\",\"linecolor\":\"white\",\"ticks\":\"\"},\"radialaxis\":{\"gridcolor\":\"white\",\"linecolor\":\"white\",\"ticks\":\"\"}},\"ternary\":{\"bgcolor\":\"#E5ECF6\",\"aaxis\":{\"gridcolor\":\"white\",\"linecolor\":\"white\",\"ticks\":\"\"},\"baxis\":{\"gridcolor\":\"white\",\"linecolor\":\"white\",\"ticks\":\"\"},\"caxis\":{\"gridcolor\":\"white\",\"linecolor\":\"white\",\"ticks\":\"\"}},\"coloraxis\":{\"colorbar\":{\"outlinewidth\":0,\"ticks\":\"\"}},\"colorscale\":{\"sequential\":[[0.0,\"#0d0887\"],[0.1111111111111111,\"#46039f\"],[0.2222222222222222,\"#7201a8\"],[0.3333333333333333,\"#9c179e\"],[0.4444444444444444,\"#bd3786\"],[0.5555555555555556,\"#d8576b\"],[0.6666666666666666,\"#ed7953\"],[0.7777777777777778,\"#fb9f3a\"],[0.8888888888888888,\"#fdca26\"],[1.0,\"#f0f921\"]],\"sequentialminus\":[[0.0,\"#0d0887\"],[0.1111111111111111,\"#46039f\"],[0.2222222222222222,\"#7201a8\"],[0.3333333333333333,\"#9c179e\"],[0.4444444444444444,\"#bd3786\"],[0.5555555555555556,\"#d8576b\"],[0.6666666666666666,\"#ed7953\"],[0.7777777777777778,\"#fb9f3a\"],[0.8888888888888888,\"#fdca26\"],[1.0,\"#f0f921\"]],\"diverging\":[[0,\"#8e0152\"],[0.1,\"#c51b7d\"],[0.2,\"#de77ae\"],[0.3,\"#f1b6da\"],[0.4,\"#fde0ef\"],[0.5,\"#f7f7f7\"],[0.6,\"#e6f5d0\"],[0.7,\"#b8e186\"],[0.8,\"#7fbc41\"],[0.9,\"#4d9221\"],[1,\"#276419\"]]},\"xaxis\":{\"gridcolor\":\"white\",\"linecolor\":\"white\",\"ticks\":\"\",\"title\":{\"standoff\":15},\"zerolinecolor\":\"white\",\"automargin\":true,\"zerolinewidth\":2},\"yaxis\":{\"gridcolor\":\"white\",\"linecolor\":\"white\",\"ticks\":\"\",\"title\":{\"standoff\":15},\"zerolinecolor\":\"white\",\"automargin\":true,\"zerolinewidth\":2},\"scene\":{\"xaxis\":{\"backgroundcolor\":\"#E5ECF6\",\"gridcolor\":\"white\",\"linecolor\":\"white\",\"showbackground\":true,\"ticks\":\"\",\"zerolinecolor\":\"white\",\"gridwidth\":2},\"yaxis\":{\"backgroundcolor\":\"#E5ECF6\",\"gridcolor\":\"white\",\"linecolor\":\"white\",\"showbackground\":true,\"ticks\":\"\",\"zerolinecolor\":\"white\",\"gridwidth\":2},\"zaxis\":{\"backgroundcolor\":\"#E5ECF6\",\"gridcolor\":\"white\",\"linecolor\":\"white\",\"showbackground\":true,\"ticks\":\"\",\"zerolinecolor\":\"white\",\"gridwidth\":2}},\"shapedefaults\":{\"line\":{\"color\":\"#2a3f5f\"}},\"annotationdefaults\":{\"arrowcolor\":\"#2a3f5f\",\"arrowhead\":0,\"arrowwidth\":1},\"geo\":{\"bgcolor\":\"white\",\"landcolor\":\"#E5ECF6\",\"subunitcolor\":\"white\",\"showland\":true,\"showlakes\":true,\"lakecolor\":\"white\"},\"title\":{\"x\":0.05},\"mapbox\":{\"style\":\"light\"}}},\"xaxis\":{\"anchor\":\"y\",\"domain\":[0.0,1.0],\"title\":{\"text\":\"Epoch\"}},\"yaxis\":{\"anchor\":\"x\",\"domain\":[0.0,1.0],\"title\":{\"text\":\"Loss\"}},\"legend\":{\"title\":{\"text\":\"variable\"},\"tracegroupgap\":0},\"title\":{\"text\":\"Training and Validation Loss Over Time\"}},                        {\"responsive\": true}                    ).then(function(){\n",
       "                            \n",
       "var gd = document.getElementById('0b89f476-2d64-4279-a2c9-c00cb678aed4');\n",
       "var x = new MutationObserver(function (mutations, observer) {{\n",
       "        var display = window.getComputedStyle(gd).display;\n",
       "        if (!display || display === 'none') {{\n",
       "            console.log([gd, 'removed!']);\n",
       "            Plotly.purge(gd);\n",
       "            observer.disconnect();\n",
       "        }}\n",
       "}});\n",
       "\n",
       "// Listen for the removal of the full notebook cells\n",
       "var notebookContainer = gd.closest('#notebook-container');\n",
       "if (notebookContainer) {{\n",
       "    x.observe(notebookContainer, {childList: true});\n",
       "}}\n",
       "\n",
       "// Listen for the clearing of the current output cell\n",
       "var outputEl = gd.closest('.output');\n",
       "if (outputEl) {{\n",
       "    x.observe(outputEl, {childList: true});\n",
       "}}\n",
       "\n",
       "                        })                };                });            </script>        </div>"
      ]
     },
     "metadata": {},
     "output_type": "display_data"
    }
   ],
   "source": [
    "fig = px.line(\n",
    "    history1.history, # history will be an object with attributes as list having the metric values for each epoch\n",
    "    y=['loss', 'val_loss'],\n",
    "    labels={'index': \"Epoch\", 'value': \"Loss\"},\n",
    "    title=\"Training and Validation Loss Over Time\"\n",
    ")\n",
    "\n",
    "fig.show()"
   ]
  },
  {
   "cell_type": "code",
   "execution_count": 227,
   "id": "339ca23b",
   "metadata": {},
   "outputs": [
    {
     "name": "stdout",
     "output_type": "stream",
     "text": [
      "1/1 - 0s - loss: 8.8985 - accuracy: 0.2500 - 20ms/epoch - 20ms/step\n",
      "\n",
      "Test accuracy: 0.25\n"
     ]
    }
   ],
   "source": [
    "test_loss, test_acc = model1.evaluate(X_test, y_test, verbose=2)\n",
    "print('\\nTest accuracy:', test_acc)"
   ]
  },
  {
   "cell_type": "markdown",
   "id": "cc461cc0",
   "metadata": {},
   "source": [
    "# Machine Learning Model - Decision Tree"
   ]
  },
  {
   "cell_type": "code",
   "execution_count": 228,
   "id": "982de785",
   "metadata": {},
   "outputs": [],
   "source": [
    "from sklearn.tree import DecisionTreeClassifier\n",
    "from sklearn.metrics import accuracy_score"
   ]
  },
  {
   "cell_type": "code",
   "execution_count": 229,
   "id": "21bbbfc3",
   "metadata": {},
   "outputs": [],
   "source": [
    "clf = DecisionTreeClassifier(random_state=42)"
   ]
  },
  {
   "cell_type": "code",
   "execution_count": 230,
   "id": "c06f46d2",
   "metadata": {},
   "outputs": [
    {
     "data": {
      "text/plain": [
       "DecisionTreeClassifier(random_state=42)"
      ]
     },
     "execution_count": 230,
     "metadata": {},
     "output_type": "execute_result"
    }
   ],
   "source": [
    "# Train the model on the training set\n",
    "clf.fit(X_train, y_train)"
   ]
  },
  {
   "cell_type": "code",
   "execution_count": 231,
   "id": "d56612fe",
   "metadata": {},
   "outputs": [],
   "source": [
    "# Predict the classes for the test set\n",
    "y_pred = clf.predict(X_test)"
   ]
  },
  {
   "cell_type": "code",
   "execution_count": 232,
   "id": "6a4f24f2",
   "metadata": {},
   "outputs": [
    {
     "name": "stdout",
     "output_type": "stream",
     "text": [
      "Test Accuracy: 0.5\n"
     ]
    }
   ],
   "source": [
    "# Calculate the accuracy score\n",
    "accuracy = accuracy_score(y_test, y_pred)\n",
    "\n",
    "print(\"Test Accuracy:\", accuracy)"
   ]
  },
  {
   "cell_type": "markdown",
   "id": "994e0079",
   "metadata": {},
   "source": [
    "# Machine Learning Model - Random Forest(Ensemble Learning)"
   ]
  },
  {
   "cell_type": "code",
   "execution_count": 233,
   "id": "a393dc3b",
   "metadata": {},
   "outputs": [],
   "source": [
    "from sklearn.ensemble import RandomForestClassifier\n",
    "from sklearn.metrics import accuracy_score"
   ]
  },
  {
   "cell_type": "code",
   "execution_count": 234,
   "id": "6e5e7c4e",
   "metadata": {},
   "outputs": [],
   "source": [
    "clf = RandomForestClassifier(n_estimators=100, max_depth=5, random_state=42)"
   ]
  },
  {
   "cell_type": "code",
   "execution_count": 235,
   "id": "5071343b",
   "metadata": {},
   "outputs": [
    {
     "data": {
      "text/plain": [
       "RandomForestClassifier(max_depth=5, random_state=42)"
      ]
     },
     "execution_count": 235,
     "metadata": {},
     "output_type": "execute_result"
    }
   ],
   "source": [
    "# fit the classifier to the training data\n",
    "clf.fit(X_train, y_train)"
   ]
  },
  {
   "cell_type": "code",
   "execution_count": 236,
   "id": "1be53876",
   "metadata": {},
   "outputs": [],
   "source": [
    "# make predictions on the testing data\n",
    "y_pred = clf.predict(X_test)"
   ]
  },
  {
   "cell_type": "code",
   "execution_count": 237,
   "id": "1e16b1fb",
   "metadata": {},
   "outputs": [
    {
     "name": "stdout",
     "output_type": "stream",
     "text": [
      "Test Accuracy: 0.5\n"
     ]
    }
   ],
   "source": [
    "# calculate the accuracy of the model\n",
    "accuracy = accuracy_score(y_test, y_pred)\n",
    "print(\"Test Accuracy:\", accuracy)"
   ]
  }
 ],
 "metadata": {
  "kernelspec": {
   "display_name": "Python 3 (ipykernel)",
   "language": "python",
   "name": "python3"
  },
  "language_info": {
   "codemirror_mode": {
    "name": "ipython",
    "version": 3
   },
   "file_extension": ".py",
   "mimetype": "text/x-python",
   "name": "python",
   "nbconvert_exporter": "python",
   "pygments_lexer": "ipython3",
   "version": "3.9.13"
  }
 },
 "nbformat": 4,
 "nbformat_minor": 5
}
